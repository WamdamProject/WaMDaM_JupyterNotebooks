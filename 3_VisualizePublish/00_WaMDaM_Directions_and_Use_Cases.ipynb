{
 "cells": [
  {
   "cell_type": "markdown",
   "metadata": {},
   "source": [
    "## WaMDaM / OpenAgua Directions and Use Cases\n",
    "\n",
    "\n",
    "\n",
    "#### By Adel M. Abdallah, Jan 2022\n",
    "\n",
    "The Water Management Data Model (WaMDaM) is a database design with companion software that uses contextual metadata and controlled vocabularies to organize water management data from multiple sources and models. The design addressed the problem of using multiple methods to query and analyze water management data to identify input data to develop or extend a water management model. The consistent design allows modelers to query, plot, compare data, and choose input data and serve it to run models. \n",
    "\n",
    "These sets of Jupyter Notebooks demonstrate use cases to connect WaMDaM with HydraPlatrform web-services and OpenAgua to visualize networks and their data.They also demonstrate how users can publish WaMDaM database instances into HydroShare.     \n",
    "\n",
    "Active development of WaMDaM software continues at the WaMDaM project on GitHub at https://github.com/WamdamProject"
   ]
  },
  {
   "cell_type": "markdown",
   "metadata": {},
   "source": [
    "### The instructions here will help you to replicate the process to \n",
    "\n",
    "* Use the WaMDaM Wizard to visualize two different models in the Bear River Watershed, USA.\n",
    "\n",
    "* Use OpenAgua to create new scenarios, then use the WaMDaM Wizard to download them into WaMDaM Excel workbook, into SQLite database, and then serve them to WEAP and WASH models. \n",
    "\n",
    "* Use Jupyter Notebooks to query WaMDaM and serve scenario data into Water Evaluation and Planning system (WEAP) and WASH models. Then Use the WaMDaM Wizard to load output data back into WaMDaM SQLite. \n",
    "\n",
    "* Use the WaMDaM Wizard to publish WaMDaM and OpenAgua models into HydroShare.\n",
    "\n",
    "Many WaMDaM steps can be executed within this Notebook, other steps require actions on a local machine. The Notebooks use the Python 2.7 libraries pandas and SQLite that are already installed as part of the Anaconda Distribution.\n",
    "\n",
    "If you want to share this Notebook with others, please share this URL.\n",
    "https://github.com/WamdamProject/WaMDaM_JupyteNotebooks/blob/master/2_VisualizePublish/00_WaMDaM_Directions_and_Use_Cases.ipynb\n",
    "\n",
    "**Note**, URLs that contain (https://hub.mybinder.org.....) will become invalid after  few minutes of inactivity.\n",
    "\n",
    "\n",
    "### Required Software \n",
    "* Windows 7, 10, or 11 64-bit operating systems, both up to date.  \n",
    "* Internet connection and Google Chrome v. 69 or Firefox Quantum v. 62.0 browsers     \n",
    "* Microsoft Excel (versions after 2007)  \n",
    "* Anaconda distribution for Python 3.5 or older. You could use pip to install the needed libraries too \n",
    "* Water Evaluation and Planning System (WEAP) (WEAP requires a license to run the model.   \n",
    "    If you don’t have access to a WEAP license, you will still be able to replicate all the results except for the part that serves data into WEAP And runs it.   \n",
    "* The GAMS software a license https://www.gams.com/\n",
    "\n",
    "### Required membership\n",
    "* Free: create a user account at https://openagua.org. After you create the account, email Adel Abdalla@ adel.m.abdallah@gmail.com to let hm know your username (email) to share a project with you as part of replicating one use case. \n",
    "* Free: create a user account at https://www.hydroshare.org/\n",
    "\n",
    "\n",
    "### Difficulty level\n",
    "Very little coding or database experience are needed to replicate the work but some knowledge of coding like in Python and awareness of Structure Query Language (SQL) are a plus. \n",
    "\n",
    "**Options and required time**   \n",
    "Please expect to spend a few hours up to a day to complete these directions. This work is 6 years in the making so spending a few hours to learn and replicate the results is quite amazing! \n",
    "\n",
    "\n",
    "### How to use the Notebook   \n",
    "The Notebook reads data from a WaMDaM SQLite pre-populated file, runs SQL script for each use case, and then uses Plotly to visualize the results. The SQL queries used in the use cases are referenced directly from GitHub to maintain a manageable and simple Notebook at https://github.com/WamdamProject/WaMDaM_JupyteNotebooks/blob/master/2_VisualizePublish/SQL_queries\n",
    "\n",
    "Execute the Notebook cells that contain Python code by pressing `Shift-Enter`, or by pressing the play button <img style='display:inline;padding-bottom:15px' src='play-button.png'> on the toolbar above.   \n",
    "\n",
    "**Note:** Any changes you make to the live Notebooks are temporary and will be lost once you close it. You always can start a new live Notebook that has the original content.    \n",
    "\n",
    "\n"
   ]
  },
  {
   "cell_type": "markdown",
   "metadata": {},
   "source": [
    "# Prerequisites \n",
    "-----------------------------------------------------------\n",
    "\n",
    "### Step 1: Setup_local_Jupyter\n",
    "\n",
    "[01_Step 1_Setup_local_Jupyter](https://github.com/WamdamProject/WaMDaM_JupyterNotebooks/blob/master/3_VisualizePublish/01_Step1_Setup_local_Jupyter.ipynb)   \n",
    "<br>\n",
    "\n",
    "\n",
    "### Step 2: Install_WaMDaM_Wizard_Connect to SQLite\n",
    "\n",
    " \n",
    "[02_Step 2_Step2_Install_WaMDaM_Wizard_Connect](https://github.com/WamdamProject/WaMDaM_JupyterNotebooks/blob/master/3_VisualizePublish/02_Step2_Install_WaMDaM_Wizard_Connect.ipynb)   \n",
    "<br>\n"
   ]
  },
  {
   "cell_type": "markdown",
   "metadata": {},
   "source": [
    "# Case 1\n",
    "-----------------------------------------------------------\n",
    "\n",
    "### Step 3: Visualize WaMDaM networks into OpenAgua\n",
    " \n",
    "[03_Step 3_Step3_Visualize_OpenAgua](https://github.com/WamdamProject/WaMDaM_JupyterNotebooks/blob/master/3_VisualizePublish/03_Step3_Visualize_OpenAgua.ipynb)   \n",
    "<br>"
   ]
  },
  {
   "cell_type": "markdown",
   "metadata": {},
   "source": [
    "# Use Case 2\n",
    "--------------------------------------------------------------\n",
    "### Step 4: Create_New_Scenarios_Edit_OpenAgua\n",
    " \n",
    "[Step4_Create_New_Scenarios_Edit_OpenAgua](https://github.com/WamdamProject/WaMDaM_JupyterNotebooks/blob/master/3_VisualizePublish/04_Step4_Create_New_Scenarios_Edit_OpenAgua.ipynb)   \n",
    "<br>\n",
    "\n",
    "\n",
    "### Step 5: Download_to_WaMDaM\n",
    " \n",
    "[Step5_EditOpenAgua_download_to_WaMDaM](https://github.com/WamdamProject/WaMDaM_JupyterNotebooks/blob/master/2_VisualizePublish/05_Step5_download_to_WaMDaM.ipynb)   \n",
    "<br>\n",
    "\n",
    "\n",
    "\n",
    "### Step 6: Serve_NewScenarios_WASH\n",
    " \n",
    "[Step6_Serve_NewScenarios_WASH](https://github.com/WamdamProject/WaMDaM_JupyterNotebooks/blob/master/3_VisualizePublish/06_Step6_Serve_NewScenarios_WASH.ipynb)   \n",
    "<br>\n",
    "\n",
    "\n",
    "\n",
    "### Step 7: Serve_NewScenarios_WEAP\n",
    " \n",
    "[Step7_Serve_NewScenarios_WEAP](https://github.com/WamdamProject/WaMDaM_JupyterNotebooks/blob/master/3_VisualizePublish/07_Step7_Serve_NewScenarios_WEAP.ipynb)   \n",
    "<br>\n"
   ]
  },
  {
   "cell_type": "markdown",
   "metadata": {},
   "source": [
    "\n",
    "# Use Case 3\n",
    "\n",
    "\n",
    "### Step 8: Publish the Bear River and Monterrey models into HydroShare \n",
    "[Step8_Publish_HydroShare](https://github.com/WamdamProject/WaMDaM_JupyterNotebooks/blob/master/3_VisualizePublish/08_Step8_Publish_HydroShare.ipynb)   \n",
    "<br>\n",
    "\n",
    "### Step 9: Query_Analyze_HydroShare_Monterrey_Mexico\n",
    " \n",
    "[Step9_Query_Analyze_HydroShare_Monterrey_Mexico](https://github.com/WamdamProject/WaMDaM_JupyterNotebooks/blob/master/3_VisualizePublish/09_Step9_Query_Analyze_HydroShare_Monterrey_Mexico.ipynb)   \n",
    "<br>"
   ]
  },
  {
   "cell_type": "markdown",
   "metadata": {},
   "source": [
    "# Info\n",
    "\n",
    "### Sponsors and Credit\n",
    "This material is based upon work [supported](http://docs.wamdam.org/SponsorsCredit/) by the National Science Foundation (NSF) under Grants 1135482 (CI-Water) and 1208732 (iUtah). Any opinions, findings, and conclusions or recommendations expressed in this material are those of the author(s) and do not necessarily reflect the views of the NSF.\n",
    "\n",
    "### License\n",
    "WaMDaM and its products are disturbed under a BSD 3-Clause [license](http://docs.wamdam.org/License/)\n",
    "\n",
    "### Authors\n",
    "[Adel M. Abdallah](http://adelmabdallah.com/) has been the lead in WaMDaM development as part of his PhD dissertation at Utah State University under the advising of Dr. David Rosenberg. \n",
    "\n",
    "If you have questions, feel free to email me at: [amabdallah@aggiemail.usu.edu](mailto:amabdallah@aggiemail.usu.edu) \n",
    "\n",
    "### Citation\n",
    "Adel M. Abdallah, David Rheinheimer, David E. Rosenberg, Steve Knox, Julien J Harou (In review). A Software Ecosystem to Store, Visualize, and Publish Modelling Data for Water Resources Systems. Environmental Modelling & Software"
   ]
  },
  {
   "cell_type": "markdown",
   "metadata": {},
   "source": [
    "# The End :) Congratulations!"
   ]
  },
  {
   "cell_type": "code",
   "execution_count": null,
   "metadata": {},
   "outputs": [],
   "source": []
  }
 ],
 "metadata": {
  "kernelspec": {
   "display_name": "Python 3 (ipykernel)",
   "language": "python",
   "name": "python3"
  },
  "language_info": {
   "codemirror_mode": {
    "name": "ipython",
    "version": 3
   },
   "file_extension": ".py",
   "mimetype": "text/x-python",
   "name": "python",
   "nbconvert_exporter": "python",
   "pygments_lexer": "ipython3",
   "version": "3.7.7"
  }
 },
 "nbformat": 4,
 "nbformat_minor": 4
}
