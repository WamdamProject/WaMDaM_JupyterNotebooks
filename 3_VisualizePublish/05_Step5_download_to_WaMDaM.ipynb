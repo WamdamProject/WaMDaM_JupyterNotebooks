{
 "cells": [
  {
   "cell_type": "markdown",
   "metadata": {},
   "source": [
    "## WaMDaM Directions and Use Cases\n",
    "\n",
    "### By Adel M. Abdallah, Jan 2022"
   ]
  },
  {
   "cell_type": "markdown",
   "metadata": {},
   "source": [
    "# Step 5:  Download new scenarios into WaMDaM\n"
   ]
  },
  {
   "cell_type": "markdown",
   "metadata": {},
   "source": [
    "Note:\n",
    "I simplified the instructions here from an earlier version so its easier for you to see how things work. \n",
    "\n",
    "\n",
    "### You will import three seperate Networks in OpenAgua into WaMDaM workbooks \n",
    "* Download the Monterrey, Mexico Model \n",
    "* Download the WEAP Model with its new scnearios\n",
    "* Download the WASH with its new scenarios\n"
   ]
  },
  {
   "cell_type": "markdown",
   "metadata": {},
   "source": [
    "**Steps**\n",
    "* Click at the **Import Data to WaMDaM** tab in the WaMDaM Wizard. Then click at the button **Import From OpenAgua**\n",
    "* provide your user name and password to OpenAgua then click connect. \n",
    "* If you havent yet, email Adel Abdalla @ amabdallah@aggiemail.usu.edu to let hm know your username (email) to share a project with you as part of replicating this use case.\n",
    "\n",
    "* After Adel shares the Monterrey Project with you, here you will be able to see and select it \n",
    "* then select the model name, network, and scenario. \n",
    "\n",
    "* Select a directory on your local computer to download and save the WaMDaM workbook template with the Monterry project. It may take 15 min or longer to finish. So take it easy and leave the WaMDaM Wiazard a lone :)\n",
    "\n",
    "\n",
    "* Click import. Redo the same to the WEAP Bear River 2017 network and the WASH model network.\n",
    "* You should have three seperate WaMDaM Excel workbooks, one for each model.\n",
    "\n",
    "* Open the downloaded excel file and check its sheets. You will see the sheets for the object types, attributes. Then you will see the nodes and links. finally, you'll see the data values like the numeric and time series data. \n",
    "\n",
    "  <img src=\"https://github.com/WamdamProject/WaMDaM-software-ecosystem/blob/master/mkdocs/Edit_MD_Files/images/ImportOpenAgua.PNG?raw=true\" style=\"float:center;width:600px;padding:20px\">\n",
    "  <h3><center>**Figure 1:** GUI to import from OpenAgua into WaMDaM</center></h3>"
   ]
  },
  {
   "cell_type": "markdown",
   "metadata": {},
   "source": [
    "# Option 1: Easier and faster\n",
    "\n",
    "I already downloaded the workbooks and loaded into SQLite files here. Its the same SQLite file you used at the begining to upload the files to OpenAgua.\n",
    "\n",
    "    C:\\Users\\Adel\\Documents\\GitHub\\WamdamProject\\WaMDaM_JupyteNotebooks\\3_VisualizePublish\\Files\\Downloaded_Ready    \n",
    "\n",
    "With this option, you're done here and proceed to the next Jupyter Notebook"
   ]
  },
  {
   "cell_type": "markdown",
   "metadata": {
    "collapsed": true
   },
   "source": [
    "### Congratulations!\n",
    "* You're ready to publish this Monterry model into HydroShare\n",
    "* Serve the WEAP and WASH scenario data into each model"
   ]
  },
  {
   "cell_type": "markdown",
   "metadata": {},
   "source": [
    "# Option 2: Takes more time \n",
    "\n",
    "* Each of the downloaded workbooks is a similiar copy to the WaMDaM Excel Workbook but it does not have controlled vocabularies nor metadata drop down menus. \n",
    "* So you will compy the content of each downloaded workbook into an actual WaMDaM workbook template that is mostly blank. \n",
    "\n",
    "        C:\\Users\\Adel\\Documents\\GitHub\\WamdamProject\\WaMDaM_JupyteNotebooks\\2_VisualizePublish\\Files\\Downloaded_Blank\n",
    "    \n",
    "\n",
    "* For a smoother experiance, only copy the following sheets to each of the blank Excel workbook file:\n",
    "    3.1_Networks&Scenarios  \n",
    "    3.2_Nodes   \n",
    "    3.3_Links  \n",
    "    4_NumericValues  \n",
    "    4_CategoricalValues  \n",
    "    4_FreeText\n",
    "    4_SeasonalNumericValues  \n",
    "    4_TimeSeries  \n",
    "    4_TimeSeriesValues  \n",
    "    4_MultiAttributeSeries  \n",
    "\n",
    "### It is super important that when you copy into the WaMDaM Workbook that you use the right click and then paste as values. (Figure 2). Otherwise the regular paste might overwrite the formulas in the workbook and then cuase issues  \n",
    "\n",
    "  <img src=\"https://github.com/WamdamProject/WaMDaM-software-ecosystem/blob/master/mkdocs/Edit_MD_Files/images/Paste.PNG?raw=true\" style=\"float:center;width:600px;padding:20px\">\n",
    "  <h3><center>**Figure 2:** GUI to import from OpenAgua into WaMDaM</center></h3>"
   ]
  },
  {
   "cell_type": "markdown",
   "metadata": {
    "collapsed": true
   },
   "source": [
    "## Copy the Excel file content into the WaMDaM Excel template, provide metadata + CVs"
   ]
  },
  {
   "cell_type": "markdown",
   "metadata": {
    "collapsed": true
   },
   "source": [
    "* See the controlled vocabulary in the 2.2_Attributes for the Monterrey workbook\n",
    "* You need to provide the sources and methods for the Nodes and Links, and each Data Value sheet\n",
    "\n",
    "\n",
    "  <img src=\"https://github.com/WamdamProject/WaMDaM-software-ecosystem/blob/master/mkdocs/Edit_MD_Files/images/CV_monterrey.PNG?raw=true\" style=\"float:center;width:600px;padding:20px\">\n",
    "  <h3><center>**Figure 3:** Registering the Monterrey model data with controlled vocabulary </center></h3>\n"
   ]
  },
  {
   "cell_type": "markdown",
   "metadata": {
    "collapsed": true
   },
   "source": [
    "### Use the WaMDaM Wizard to load the Workbook into a WaMDaM SQLite database for the three models"
   ]
  },
  {
   "cell_type": "markdown",
   "metadata": {
    "collapsed": true
   },
   "source": [
    "* Launch the WaMDaM Wizard, create a new SQLite database. One called \"Monterrey\" and the Second \"WEAP_WASH_Models\" \n",
    "* Use Import Data to WaMDAM and choose Excel. Load the Monterrey workbook to the Monterrey database and the other two into the \"WEAP_WASH_Models\"  database "
   ]
  }
 ],
 "metadata": {
  "kernelspec": {
   "display_name": "Python 3 (ipykernel)",
   "language": "python",
   "name": "python3"
  },
  "language_info": {
   "codemirror_mode": {
    "name": "ipython",
    "version": 3
   },
   "file_extension": ".py",
   "mimetype": "text/x-python",
   "name": "python",
   "nbconvert_exporter": "python",
   "pygments_lexer": "ipython3",
   "version": "3.7.7"
  }
 },
 "nbformat": 4,
 "nbformat_minor": 2
}
