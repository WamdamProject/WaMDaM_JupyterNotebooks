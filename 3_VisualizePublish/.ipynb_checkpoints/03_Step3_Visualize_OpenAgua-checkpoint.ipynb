{
 "cells": [
  {
   "cell_type": "markdown",
   "metadata": {},
   "source": [
    "## Step 3: Visualize and publish WaMDaM Models in OpenAgua\n",
    "\n",
    "### By Adel M. Abdallah, Jan 2022"
   ]
  },
  {
   "cell_type": "markdown",
   "metadata": {},
   "source": [
    "# Use Case 3: Visualize WEAP and WASH Models in OpenAgua"
   ]
  },
  {
   "cell_type": "markdown",
   "metadata": {},
   "source": [
    "## Prerequists\n",
    "\n",
    "* You should have already downloaded the WaMDaM Wizard and connected to the provided populated WaMDaM SQLite database that includes both the WEAP and WASH models in the Bear River Watershed.  \n",
    "\n",
    "* You should have an account with OpenAgua. Make sure you can succesfully login to OpenAgua. Check out the public projects like in this screenshot\n",
    "\n",
    "  <img src=\"https://github.com/WamdamProject/WaMDaM-software-ecosystem/blob/master/mkdocs/Edit_MD_Files/images/OpenAgua_public.PNG?raw=true\" style=\"float:center;width:600px;padding:20px\">\n",
    "  <h3><center>**Figure 1:** Public projects in OpenAgua</center></h3>\n"
   ]
  },
  {
   "cell_type": "markdown",
   "metadata": {},
   "source": [
    "###  Upload the WEAP 2017 network into OpenAgua. \n",
    "In the WaMDaM Wizard main window, click at **Visualize and Publish** tab, then click at the OpenAgua button. \n",
    "\n",
    "* provide your user name and password to OpenAgua then click login. \n",
    "\n",
    "* provide a project name of your choice. For example, \"YourName WEAP Project\"\n",
    "\n",
    "* Select a model in the db. here it is WEAP\n",
    "\n",
    "* Select a network: here it is Bear River Network. This one one is for the 2017 version of the model\n",
    "\n",
    "\n",
    "#### To simplify things, this upload will include scenarios and results for the next use cases.\n",
    "\n",
    "* Select all the available scenarios except (\"copy\") \n",
    "\n",
    "* click upload to OpenAgua. It will take some good time (15 min) to finish. So leave it a lone :) \n",
    "\n",
    "  <img src=\"https://github.com/WamdamProject/WaMDaM-software-ecosystem/blob/master/mkdocs/Edit_MD_Files/images/Viz_OpenAgua.PNG?raw=true\" style=\"float:center;width:600px;padding:20px\">\n",
    "  <h3><center>**Figure 2:** Visualize WEAP 2017 network in OpenAgua</center></h3>\n",
    "  \n",
    "##  Upload the WEAP 2012 network into OpenAgua. \n",
    "\n",
    "* Repeate the same steps above but this time choose the Lower Bear River network and the 2012 scenario. \n",
    "\n",
    "<img src=\"https://github.com/WamdamProject/WaMDaM-software-ecosystem/blob/master/mkdocs/Edit_MD_Files/images/Viz_OpenAgua2.PNG?raw=true\" style=\"float:center;width:600px;padding:20px\">\n",
    "<h3><center>**Figure 3:** Visualize WEAP 2012 network in OpenAgua</center></h3>  \n",
    "   \n",
    "\n",
    "\n",
    "##  Upload the WAH model network into OpenAgua.    \n",
    "\n",
    "* Repeate the same steps above but this time choose the WASH model, Lower Bear River network, and all the scenarios.  \n",
    "      \n",
    "<img src=\"https://github.com/WamdamProject/WaMDaM-software-ecosystem/blob/master/mkdocs/Edit_MD_Files/images/Viz_OpenAgua3.PNG?raw=true\" style=\"float:center;width:600px;padding:20px\">\n",
    "  <h3><center>**Figure 4:** Visualize WASH in OpenAgua</center></h3>\n"
   ]
  },
  {
   "cell_type": "markdown",
   "metadata": {},
   "source": [
    "### Congratualtions! \n",
    "Go to your OpenAgua account and hard refresh the browswer to see the uploaded WEAP and WASH models "
   ]
  },
  {
   "cell_type": "markdown",
   "metadata": {},
   "source": [
    "## Replicate Figure 5 in the Ecosystem Paper\n",
    "\n",
    "* In your browser, right click at the OpenAgua then choose duplicate tab which will create you another window.\n",
    "* Open the WEAP project by cliking at the name which is a hyperlink. In the second window, open the WASH project\n",
    "* In the WEAP window, choose the 2017 network. In athe WASH window, choose the One year and only scenario \n",
    "* On the left side of the OpenAgua portal, click at he double arrows icon to see the supported toolbar items. \n",
    "* Click at the network editor icon.\n",
    "* Take some time to explore the map. Zome in and out.  \n",
    "* Click at the databse icon at he far top right corner of the OpenAgua portal to see the object types for this model\n",
    "\n",
    "<img src=\"https://github.com/WamdamProject/WaMDaM-software-ecosystem/blob/master/mkdocs/Edit_MD_Files/images/NavigateOpenAgua.PNG?raw=true\" style=\"float:center;width:600px;padding:20px\">\n",
    "  <h3><center>**Figure 5:** Navigate OpenAgua toolbar</center></h3>\n",
    "  \n",
    "\n",
    "\n",
    "<img src=\"https://github.com/WamdamProject/WaMDaM-software-ecosystem/blob/master/mkdocs/Edit_MD_Files/images/ObjectTypes_OpenAgua.PNG?raw=true\" style=\"float:center;width:600px;padding:20px\">\n",
    "  <h3><center>**Figure 6:** See the Object types </center></h3>\n",
    "  \n",
    "  \n",
    "  \n",
    "* Right click at the icons and see how you could edit their data.\n",
    "\n",
    "<img src=\"https://github.com/WamdamProject/WaMDaM-software-ecosystem/blob/master/mkdocs/Edit_MD_Files/images/OpenAgua_editData.PNG?raw=true\" style=\"float:center;width:600px;padding:20px\">\n",
    "  <h3><center>**Figure 7:** View input data</center></h3>\n",
    "  \n",
    "* Check the Scenarios editor. Select a scenario, then click at \"Time Settings\" to see the time step and the start and end dates of the model \n",
    "  "
   ]
  },
  {
   "cell_type": "markdown",
   "metadata": {
    "collapsed": true
   },
   "source": [
    "# Congratualtions! \n",
    "Next you will use OpenAgua to create new scenarios, edit input data, the download them into WaMDaM"
   ]
  }
 ],
 "metadata": {
  "kernelspec": {
   "display_name": "Python 3 (ipykernel)",
   "language": "python",
   "name": "python3"
  },
  "language_info": {
   "codemirror_mode": {
    "name": "ipython",
    "version": 3
   },
   "file_extension": ".py",
   "mimetype": "text/x-python",
   "name": "python",
   "nbconvert_exporter": "python",
   "pygments_lexer": "ipython3",
   "version": "3.7.7"
  }
 },
 "nbformat": 4,
 "nbformat_minor": 2
}
