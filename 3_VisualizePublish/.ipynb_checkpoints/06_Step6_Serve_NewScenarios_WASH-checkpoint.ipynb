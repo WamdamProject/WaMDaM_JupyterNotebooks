{
 "cells": [
  {
   "cell_type": "markdown",
   "metadata": {},
   "source": [
    "# Step 6: Serve new imported input data from OA into Excel then GDX through WaMDaM\n",
    "#### By Adel M. Abdallah, Jan 2022\n",
    "\n",
    "Execute the following cells by pressing `Shift-Enter`, or by pressing the play button <img style='display:inline;padding-bottom:15px' src='play-button.png'> on the toolbar above.\n",
    "\n",
    "\n",
    "### Overview\n",
    "You'll use the downloaded models (now in SQLite WaMDaM database) and this Jupyter Notebook to run both WEAP and Wash models for the new scenarios defined in OpenAgua GUI. I published the SQLite WaMDaM database in HydroShare so its easier to query it in this script directly from there.      \n",
    "\n",
    "The script here will also read the models' results and visualize them or export the results to CSV or Excel file that can be loaded back to WaMDaM. Later in the next steps, those results can be uploaded back to OpenAgua to view them there in a dashboard.  \n",
    "\n",
    "You will need to have both WEAP and GAMS software installed on your machine\n"
   ]
  },
  {
   "cell_type": "markdown",
   "metadata": {},
   "source": [
    "# 1. Import python libraries\n"
   ]
  },
  {
   "cell_type": "code",
   "execution_count": null,
   "metadata": {},
   "outputs": [],
   "source": [
    "# 1. Import python libraries \n",
    "### set the notebook mode to embed the figures within the cell\n",
    "\n",
    "import sqlite3\n",
    "import numpy as np\n",
    "import pandas as pd\n",
    "import getpass\n",
    "from hs_restclient import HydroShare, HydroShareAuthBasic\n",
    "import os\n",
    "\n",
    "import plotly\n",
    "plotly.__version__\n",
    "import plotly.offline as offline\n",
    "import plotly.graph_objs as go\n",
    "from plotly.offline import download_plotlyjs, init_notebook_mode, plot, iplot\n",
    "offline.init_notebook_mode(connected=True)\n",
    "from plotly.offline import init_notebook_mode, iplot\n",
    "from plotly.graph_objs import *\n",
    "\n",
    "\n",
    "init_notebook_mode(connected=True)         # initiate notebook for offline plot\n",
    "import sys\n",
    "from shutil import copyfile\n",
    "\n",
    "import os\n",
    "import csv\n",
    "from collections import OrderedDict\n",
    "import sqlite3\n",
    "import pandas as pd\n",
    "import numpy as np\n",
    "from IPython.display import display, Image, SVG, Math, YouTubeVideo\n",
    "\n",
    "import urllib.request as url\n",
    "\n",
    "import calendar\n",
    "\n",
    "import sqlite3\n",
    "import pandas as pd\n",
    "# https://github.com/NREL/gdx-pandas\n",
    "from IPython.display import display, Image, SVG, Math, YouTubeVideo\n",
    "from openpyxl import load_workbook\n",
    "import logging\n",
    "import inspect\n",
    "import gdxpds\n",
    "\n",
    "# ! pip install gdxpds\n",
    "# import gdxpds\n",
    "# import gams\n",
    "# from gams import *\n",
    "#from ctypes import c_bool\n",
    "print ('The needed Python libraries have been imported')"
   ]
  },
  {
   "cell_type": "markdown",
   "metadata": {},
   "source": [
    "# 2. Connect to the WaMDaM SQLite on HydroShare\n",
    "### Provide the HydroShare ID for your resource\n",
    "Example  \n",
    "https://www.hydroshare.org/resource/af71ef99a95e47a89101983f5ec6ad8b/\n",
    " \n"
   ]
  },
  {
   "cell_type": "code",
   "execution_count": null,
   "metadata": {},
   "outputs": [],
   "source": [
    "# enter your HydroShare username and password here between the quotes\n",
    "\n",
    "username = ''\n",
    "password = ''\n",
    "\n",
    "auth = HydroShareAuthBasic(username=username, password=password)\n",
    "\n",
    "hs = HydroShare(auth=auth)\n",
    "\n",
    "\n",
    "# Then we can run queries against it within this notebook :)  \n",
    "resource_url='https://www.hydroshare.org/resource/af71ef99a95e47a89101983f5ec6ad8b/' \n",
    "\n",
    "\n",
    "resource_id= resource_url.split(\"https://www.hydroshare.org/resource/\",1)[1] \n",
    "resource_id=resource_id.replace('/','')\n",
    "\n",
    "print (resource_id)\n",
    "\n",
    "print ('Connected to HydroShare')\n",
    "\n",
    "resource_md = hs.getSystemMetadata(resource_id)\n",
    "# print resource_md\n",
    "\n",
    "print ('Resource title')\n",
    "print(resource_md['resource_title'])\n",
    "print ('----------------------------')\n",
    "\n",
    "resources=hs.resource(resource_id).files.all()\n",
    "\n",
    "file = \"\"\n",
    "\n",
    "for f in hs.resource(resource_id).files.all():\n",
    "\n",
    "    file += f.decode('utf8')\n",
    "\n",
    "import json\n",
    "\n",
    "file_json = json.loads(file)\n",
    "\n",
    "for f in file_json[\"results\"]:\n",
    "\n",
    "    FileURL= f[\"url\"]\n",
    "    \n",
    "    SQLiteFileName=FileURL.split(\"contents/\",1)[1] \n",
    "\n",
    "cwd = os.getcwd()\n",
    "print (cwd)\n",
    "\n",
    "fpath = hs.getResourceFile(resource_id, SQLiteFileName, destination=cwd)\n",
    "conn = sqlite3.connect(SQLiteFileName,timeout=10)\n",
    "\n",
    "print ('done')\n",
    "# Test if the connection works \n",
    "conn = sqlite3.connect(SQLiteFileName)\n",
    "\n",
    "df = pd.read_sql_query(\"SELECT ResourceTypeAcronym   FROM ResourceTypes Limit 1 \", conn)\n",
    "print (df)\n",
    "                       \n",
    "print ('--------------------')                        \n",
    "print ('\\n Connected to the WaMDaM SQLite file called' + ': ' + SQLiteFileName)"
   ]
  },
  {
   "cell_type": "markdown",
   "metadata": {},
   "source": [
    "# Query the seasonal data from WaMDaM into a dataframe"
   ]
  },
  {
   "cell_type": "code",
   "execution_count": null,
   "metadata": {},
   "outputs": [],
   "source": [
    "# The query has hard coded input parameters\n",
    "\n",
    "import requests\n",
    "\n",
    "Query_UseCase_URL='https://raw.githubusercontent.com/WamdamProject/WaMDaM_JupyterNotebooks/master/3_VisualizePublish/SQL_queries/WASH/Query_demand_seasonal.sql'\n",
    "\n",
    "# Read the query text inside the URL\n",
    "\n",
    "page = requests.get(Query_UseCase_URL)\n",
    "\n",
    "Query_UseCase_text=page.text\n",
    "\n",
    "# # return query result in a pandas data frame\n",
    "df_Seasonal_WaMDaM= pd.read_sql_query(Query_UseCase_text, conn)\n",
    "\n",
    "\n",
    "display (df_Seasonal_WaMDaM)"
   ]
  },
  {
   "cell_type": "markdown",
   "metadata": {},
   "source": [
    "# Make copies of the origianl input file to the WASH Model"
   ]
  },
  {
   "cell_type": "code",
   "execution_count": null,
   "metadata": {},
   "outputs": [],
   "source": [
    "\n",
    "# Demand conservation file\n",
    "copyfile(\"WASH_1yr_InputData_original.xlsx\", \"WASH_1yr_InputData_conserve.xlsx\")\n",
    "\n",
    "# Demand Increase file\n",
    "copyfile(\"WASH_1yr_InputData_original.xlsx\", \"WASH_1yr_InputData_increase.xlsx\")\n"
   ]
  },
  {
   "cell_type": "markdown",
   "metadata": {},
   "source": [
    "# Preapre input data and write it to Excel input to WASH "
   ]
  },
  {
   "cell_type": "code",
   "execution_count": null,
   "metadata": {},
   "outputs": [],
   "source": [
    "Instance=df_Seasonal_WaMDaM['InstanceName'][1]\n",
    "print (Instance)\n",
    "\n",
    "column_name = [\"ScenarioName\"]\n",
    "subsets = df_Seasonal_WaMDaM.groupby(column_name)\n",
    "\n",
    "for subset in subsets.groups.keys():\n",
    "    dt = subsets.get_group(name=subset)\n",
    "    print (subset)\n",
    "    \n",
    "    df=dt.loc[:, 'SeasonName':'SeasonNumericValue'].T\n",
    "\n",
    "    \n",
    "    if subset=='ConsDemand':\n",
    "        WASH_ExcelFile='WASH_1yr_InputData_conserve.xlsx'\n",
    "        df=df.loc['SeasonNumericValue':, ]\n",
    "        display(df)\n",
    "\n",
    "    elif subset=='IncrDemand':\n",
    "        WASH_ExcelFile='WASH_1yr_InputData_increase.xlsx' \n",
    "        \n",
    "        df=df.loc['SeasonNumericValue':, ]\n",
    "        columns = dict(map(reversed, enumerate(df.columns)))\n",
    "        df = df.rename(columns=columns)\n",
    "        df.head()\n",
    "        display(df)\n",
    "    else:\n",
    "        continue\n",
    "\n",
    "    sheetname='demandReq'\n",
    "    #\n",
    "    book = load_workbook(WASH_ExcelFile)\n",
    "\n",
    "    UpdateDemand = book[sheetname]\n",
    "    i =0\n",
    "    for index, row in df.iterrows():\n",
    "        for j, column in row.iteritems():\n",
    "            UpdateDemand.cell(row=i+2, column=j+2, value=float(column))\n",
    "        i += 1\n",
    "    book.save(WASH_ExcelFile)\n",
    "\n",
    "    print ('Done writing the value to WASH excel file')"
   ]
  },
  {
   "cell_type": "markdown",
   "metadata": {},
   "source": [
    "# Follow these steps to run the WASH Models in GAMS \n",
    "\n",
    "#### 1. Download and install [GAMS V.24.2.3](https://www.gams.com/) and have Excel 2007 onward\n",
    "#####  You will need a license to run GAMS solvers.\n",
    " \n",
    "#### 2. Open GAMS software. Go to File-> Project -> New Project. Navigate to the folder you created and create a new project file with any name you want.\n",
    "\n",
    "#### 3. Double click on the gams file name: WASH-WaMDaM.gms to open the GAMS file\n",
    "\n",
    "#### 4. Comment out the lines in 218-230 to choose one input file at a time. Then comment out the lines in 590-597 to write the results to the GDX file one at a time\n",
    "\n",
    "WASH_1yr_InputData_original.xlsx  \n",
    "\n",
    "WASH_1yr_InputData_conserve.xlsx   \n",
    "\n",
    "WASH_1yr_InputData_increase.xlsx   \n",
    "  \n",
    "-----------------------------------------------   \n",
    "  \n",
    "WASH-solution-original.gdx  \n",
    "\n",
    "WASH-solution-conserve.gdx   \n",
    "\n",
    "WASH-solution-increase.gdx  \n"
   ]
  },
  {
   "cell_type": "markdown",
   "metadata": {},
   "source": [
    "# Read the WASH Area result objective function value from GDX\n",
    "\n",
    "First, read the three result .gdx files.\n",
    "\n",
    "If you have issues in running GAMS scenarios, I already posted the soultion .gdx files here\n",
    "https://github.com/WamdamProject/WaMDaM_JupyterNotebooks/tree/master/3_VisualizePublish"
   ]
  },
  {
   "cell_type": "code",
   "execution_count": null,
   "metadata": {},
   "outputs": [],
   "source": [
    "os.getcwd()"
   ]
  },
  {
   "cell_type": "code",
   "execution_count": null,
   "metadata": {},
   "outputs": [],
   "source": [
    "gdx_files = {'Original':'WASH-solution-original.gdx',\n",
    "            'Conserve':'WASH-solution-conserve.gdx',\n",
    "            'Increase':'WASH-solution-increase.gdx'}\n",
    "\n",
    "\n",
    "for key,gdx_file in gdx_files.iteritems():\n",
    "    with gdxpds.gdx.GdxFile(lazy_load=False) as f:\n",
    "        f.read(gdx_file)\n",
    "        for symbol in f:\n",
    "            symbol_name = symbol.name\n",
    "            if symbol_name=='Z':  \n",
    "                df = symbol.dataframe\n",
    "                Zvalue=str(df.iloc[0]['Level'])\n",
    "                \n",
    "                ZvalueApprox=float(Zvalue)\n",
    "                \n",
    "                print 'WASH Area for ' + key+'='+str(int(ZvalueApprox)) # acres\n",
    "print ('--------------------')\n",
    "\n",
    "# Conserve_Original=Original-Conserve\n",
    "\n",
    "# Increase_Original=Original-Conserve\n",
    "\n",
    "\n",
    "print ('Results are replicated')"
   ]
  },
  {
   "cell_type": "markdown",
   "metadata": {},
   "source": [
    "  <img src=\"https://github.com/WamdamProject/WaMDaM-software-ecosystem/blob/master/mkdocs/Edit_MD_Files/images/WASH_result.PNG?raw=true\" style=\"float:center;width:600px;padding:20px\">\n",
    "  \n",
    "  \n",
    "# The End :) Congratulations!"
   ]
  },
  {
   "cell_type": "markdown",
   "metadata": {},
   "source": [
    "## The code below is part of the trial to run GAMS from here but didnt work for me. Feel free to give it a try"
   ]
  },
  {
   "cell_type": "markdown",
   "metadata": {},
   "source": [
    "# Execute GAMS (Before and after update)\n",
    "https://www.gams.com/latest/docs/API_PY_TUTORIAL.html"
   ]
  },
  {
   "cell_type": "code",
   "execution_count": null,
   "metadata": {},
   "outputs": [],
   "source": [
    "import os\n",
    "# os.path.dirname(os.path.abspath(__file__))\n",
    "\n",
    "command=\"\"\"start cmd cd C:\\GAMS\\win64/24.7 & gams.exe WASH-CEE6410\"\"\"\n",
    "\n",
    "var=os.system(command)\n",
    "print var\n"
   ]
  },
  {
   "cell_type": "code",
   "execution_count": null,
   "metadata": {},
   "outputs": [],
   "source": [
    "from gams import *"
   ]
  },
  {
   "cell_type": "code",
   "execution_count": null,
   "metadata": {},
   "outputs": [],
   "source": [
    "! conda install -c goop gams "
   ]
  },
  {
   "cell_type": "code",
   "execution_count": null,
   "metadata": {},
   "outputs": [],
   "source": [
    "version = GamsWorkspace.api_version\n",
    "print version\n",
    "ws = GamsWorkspace('Test')\n",
    "# ws = GamsWorkspace(debug=DebugLevel.KeepFiles)\n",
    "print ws\n",
    "job = ws.add_job_from_file(\"C:\\Users\\Adel\\Documents\\GitHub\\WEAP_WASH_OA\\WASH-CEE6410.gms\")\n",
    "job.run()\n",
    "GamsDatabase = job.out_db"
   ]
  },
  {
   "cell_type": "code",
   "execution_count": null,
   "metadata": {},
   "outputs": [],
   "source": [
    "ws = GamsWorkspace()\n",
    "job = ws.add_job_from_file(\"C:\\Users\\Adel\\Documents\\GitHub\\WEAP_WASH_OA\\WASH-CEE6410.gms\")\n",
    "job.run()\n",
    "GamsDatabase = job.out_db"
   ]
  },
  {
   "cell_type": "code",
   "execution_count": null,
   "metadata": {},
   "outputs": [],
   "source": [
    "if len(sys.argv) > 1:\n",
    "    ws = GamsWorkspace(system_directory = sys.argv[1])\n",
    "else:\n",
    "    ws = GamsWorkspace()"
   ]
  },
  {
   "cell_type": "code",
   "execution_count": null,
   "metadata": {},
   "outputs": [],
   "source": [
    "GAMSWorkspace.GAMSWorkspace(workingDirectory = null,\n",
    "systemDirectory = null,\n",
    "DebugLevel  = DebugLevel.Off \n",
    ")"
   ]
  }
 ],
 "metadata": {
  "kernelspec": {
   "display_name": "Python 3 (ipykernel)",
   "language": "python",
   "name": "python3"
  },
  "language_info": {
   "codemirror_mode": {
    "name": "ipython",
    "version": 3
   },
   "file_extension": ".py",
   "mimetype": "text/x-python",
   "name": "python",
   "nbconvert_exporter": "python",
   "pygments_lexer": "ipython3",
   "version": "3.7.7"
  }
 },
 "nbformat": 4,
 "nbformat_minor": 4
}
