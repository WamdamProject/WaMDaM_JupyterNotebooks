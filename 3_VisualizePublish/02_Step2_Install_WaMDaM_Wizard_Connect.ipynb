{
 "cells": [
  {
   "cell_type": "markdown",
   "metadata": {},
   "source": [
    "## WaMDaM Directions and Use Cases\n",
    "\n",
    "### By Adel M. Abdallah, Jan 2022"
   ]
  },
  {
   "cell_type": "markdown",
   "metadata": {},
   "source": [
    "# Step 2: Install WaMDaM Wizard and Connect to the database\n",
    "\n",
    "\n",
    "### i.\tDownload the WaMDaM Wizard software    \n",
    "Download the latest release from https://github.com/WamdamProject/WaMDaM_Wizard/releases\n",
    "\n",
    "### ii.\tLaunch WaMDaM Wizard     \n",
    "Once downloaded, double click at the executable “wamdam.exe” and this main window will appear. Click **More info** hyperlink if you encounter warning dialog box (Figure 1), then click **Run anyway** which will show the Wizard interface (Figure 2)\n",
    "\n",
    "  <img src=\"https://github.com/WamdamProject/WaMDaM-software-ecosystem/blob/master/mkdocs/Edit_MD_Files/images/run.PNG?raw=true\" style=\"float:center;width:600px;padding:20px\">\n",
    "  <h3><center>**Figure 1:** Installation (Windows 10)</center></h3>\n",
    "\n",
    "\n",
    "  <img src=\"https://github.com/WamdamProject/WaMDaM-software-ecosystem/blob/master/mkdocs/Edit_MD_Files/images/Wizard.PNG?raw=true\" style=\"float:center;width:600px;padding:20px\">\n",
    "  <h3><center>**Figure 2:** WaMDaM Wizard landing interface</center></h3>\n",
    "\n",
    "\n",
    "If you’re interested, the source code of the Wizard is available on GitHub here https://github.com/WamdamProject/WaMDaM_Wizard\n",
    "<br>\n"
   ]
  },
  {
   "cell_type": "markdown",
   "metadata": {},
   "source": [
    "### iii. Connect to the SQLite database file \n",
    "Click the **Connect to SQLite** tab (Figure 1), then click the button **Connect to an Existing SQLite WaMDaM database** \n",
    "\n",
    "From the previous step, it is expected that you already have clones the GitHub repo \n",
    "https://github.com/WamdamProject/WaMDaM_JupyterNotebooks\n",
    "\n",
    "Navigate to the location on your desktop where you have the GitHub clones folder. For example:   \n",
    "\n",
    "    C:\\Users\\Adel\\Documents\\GitHub\\WamdamProject\\WaMDaM_JupyteNotebooks\\3_VisualizePublish\\Files\\Original\n",
    "\n",
    "Connect to the SQLite file WEAP_WASH_BearRiver.sqlite\n",
    "<br>  \n",
    "\n"
   ]
  },
  {
   "cell_type": "markdown",
   "metadata": {},
   "source": [
    "# Congratualtions! \n"
   ]
  },
  {
   "cell_type": "markdown",
   "metadata": {},
   "source": [
    "### iv.\tView loaded data in WaMDaM tables (Optional) Not needed for this Ecosystem paper\n",
    "This step here is not needed to replicate the work. If you want to view the WaMDaM table structure and populated data,\n",
    "\n",
    "•\tDownload and install the free and open source tool **DB Browser For SQLite** to query the database and view its tables. Download from https://sqlitebrowser.org/\n",
    "•\tDownload the already populated SQL **BearRiverDatasets_August_2018_Final.sqlite** file from GitHub at \n",
    "https://github.com/WamdamProject/WaMDaM_UseCases/tree/master/3_SQLite_database   \n",
    "\n",
    "•\tLaunch **DB Browser For SQLite** and Connect to the SQLite file you downloaded (Figure 2). Click Open Database. You can see the structure of WaMDaM tables by clicking at **Database Structure**. Click **Browse Data** to see the populated tables. Click \n",
    "**Execute SQL**. \n",
    "Type this simple query below and click at the execute triangle button. \n",
    "\n",
    "    SELECT * FROM ObjectTypes \n",
    "\n",
    "The query results in all the Object Type table columns with all its populated data in rows for all the Resource Types in the database. \n",
    "\n",
    "\n",
    "<img src=\"https://github.com/WamdamProject/WaMDaM-software-ecosystem/blob/master/mkdocs/Edit_MD_Files/QuerySelect/images/DB_BrowserSQL.png?raw=true\" style=\"float:center;width:700px;padding:20px\"> \n",
    "\n",
    "\n",
    "**Figure 2:** The interface for _DB Browser For SQLite_ software which views SQLite tables and enables executing SQL queries against WaMDaM database\n"
   ]
  },
  {
   "cell_type": "markdown",
   "metadata": {},
   "source": [
    "### v. Learn about controlled vocabularies (Optional)\n",
    "This step is just for your information and in case you want to use it or make changes to the existing workbooks \n",
    "\n",
    "*  This step is also optional and not needed to replicate the work. Read further if you want to see how WaMDaM controlled vocabularies work or to suggesting new terms to add.   \n",
    "<br>\n",
    "*  WaMDaM controlled vocabulary are hosted online and can be accessed at http://vocabulary.wamdam.org/   \n",
    "<br>\n",
    "\n",
    "*  Each time you use the WaMDaM Wizard to load water management data, it calls this repository to download and update the SQLite controlled vocabulary tables.     \n",
    "<br>\n",
    "*  Continue to use your model’s native terms (e.g., how your model refers to object types, attributes, and instances). Add the controlled term next to each native term (i.e., register them against each other). Registering your model's native terms against these CVs will allow you to relate, query, and compare all your model’s data to other registered data from other models and datasets within the database. Open one of the Excel workbook examples to see how the CVs work.    \n",
    "\n",
    "    In the HomePage spreadsheet, click at the button **Update Controlled Vocabularies** which will call the online WaMDaM controlled vocabulary registry and download or update the most recent vocabularies to your template.   \n",
    "\n",
    "    Open the far right spreadsheet **ControlledVocabularies** which lists all of the downloaded terms for use as a dropdown menu in the rest of the input data spreadsheets.    \n",
    "<br>\n",
    "*  The source code for the vocabulary app can be accessed at https://github.com/WamdamProject/WaMDaM_ControlledVocabularies\n"
   ]
  },
  {
   "cell_type": "code",
   "execution_count": null,
   "metadata": {},
   "outputs": [],
   "source": []
  }
 ],
 "metadata": {
  "kernelspec": {
   "display_name": "Python 3 (ipykernel)",
   "language": "python",
   "name": "python3"
  },
  "language_info": {
   "codemirror_mode": {
    "name": "ipython",
    "version": 3
   },
   "file_extension": ".py",
   "mimetype": "text/x-python",
   "name": "python",
   "nbconvert_exporter": "python",
   "pygments_lexer": "ipython3",
   "version": "3.7.7"
  }
 },
 "nbformat": 4,
 "nbformat_minor": 4
}
