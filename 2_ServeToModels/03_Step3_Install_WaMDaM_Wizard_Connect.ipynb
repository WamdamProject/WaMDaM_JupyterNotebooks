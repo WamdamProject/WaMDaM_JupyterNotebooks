{
 "cells": [
  {
   "cell_type": "markdown",
   "metadata": {},
   "source": [
    "## WaMDaM Directions and Use Cases\n",
    "\n",
    "### By Adel M. Abdallah, Feb 2022"
   ]
  },
  {
   "cell_type": "markdown",
   "metadata": {},
   "source": [
    "# Step 2: Install WaMDaM Wizard and Connect to the database\n",
    "\n",
    "\n",
    "### i.\tDownload the WaMDaM Wizard software (WaMDaM)   \n",
    "Download the latest release from https://github.com/WamdamProject/WaMDaM_Wizard/releases\n",
    "\n",
    "### ii.\tLaunch WaMDaM Wizard     \n",
    "Once downloaded, double click at the executable “wamdam.exe” and this main window will appear. Click **More info** hyperlink if you encounter warning dialog box (Figure 1), then click **Run anyway** which will show the Wizard infterface (Figure 2)\n",
    "\n",
    "  <img src=\"https://github.com/WamdamProject/WaMDaM-software-ecosystem/blob/master/mkdocs/Edit_MD_Files/images/run.PNG?raw=true\" style=\"float:center;width:600px;padding:20px\">\n",
    "  <h3><center>**Figure 1:** Instalation (Windows 10)</center></h3>\n",
    "\n",
    "\n",
    "  <img src=\"https://github.com/WamdamProject/WaMDaM-software-ecosystem/blob/master/mkdocs/Edit_MD_Files/images/Wizard.PNG?raw=true\" style=\"float:center;width:600px;padding:20px\">\n",
    "  <h3><center>**Figure 2:** WaMDaM Wizard landing interface</center></h3>\n",
    "\n",
    "\n",
    "If you’re interested, the source code of the Wizard is available on GitHub here https://github.com/WamdamProject/WaMDaM_Wizard\n",
    "<br>\n"
   ]
  },
  {
   "cell_type": "markdown",
   "metadata": {},
   "source": [
    "# Congratualtions! \n"
   ]
  },
  {
   "cell_type": "code",
   "execution_count": null,
   "metadata": {},
   "outputs": [],
   "source": []
  }
 ],
 "metadata": {
  "kernelspec": {
   "display_name": "Python 3 (ipykernel)",
   "language": "python",
   "name": "python3"
  },
  "language_info": {
   "codemirror_mode": {
    "name": "ipython",
    "version": 3
   },
   "file_extension": ".py",
   "mimetype": "text/x-python",
   "name": "python",
   "nbconvert_exporter": "python",
   "pygments_lexer": "ipython3",
   "version": "3.7.7"
  }
 },
 "nbformat": 4,
 "nbformat_minor": 4
}
