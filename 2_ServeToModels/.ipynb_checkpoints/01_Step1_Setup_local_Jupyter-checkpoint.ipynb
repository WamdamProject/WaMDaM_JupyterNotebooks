{
 "cells": [
  {
   "cell_type": "markdown",
   "metadata": {},
   "source": [
    "## WaMDaM Directions and Use Cases\n",
    "\n",
    "\n",
    "### By Adel M. Abdallah, Utah State University, Feb 2022"
   ]
  },
  {
   "cell_type": "markdown",
   "metadata": {},
   "source": [
    "# Step 1: Set up a local Jupyter Notebook server on a local machine\n",
    "\n",
    "\n",
    "### i.  Download or clone the GitHub the repository for the Jupyter Notebooks\n",
    "\n",
    "Download it from here https://github.com/WamdamProject/WaMDaM_JupyteNotebooks to a folder on your machine. **Make sure you dont have empty spaces** in your folder name or path where it exits at.   \n",
    "\n",
    "For this paper, you only need to work with the files inside the folder called **2_VisualizePublish**    \n",
    "\n",
    "The GitHub Desktop App is very useful in case you're not aware of it. Download it at: https://desktop.github.com/   \n",
    "\n",
    "\n",
    "\n",
    "\n",
    "### ii. Install and set up Jupyter Notebook Server for Python 3.8\n",
    "**It requires some basic programing experience**   \n",
    "\n",
    "Install Python 3.8.2 from https://www.python.org/downloads/release/python-382/\n",
    "It hsould already come with a pip library installed\n",
    "\n",
    "Python 3.7x works too if you already have it.\n",
    "\n",
    "https://www.python.org/downloads/release/python-382/\n",
    "\n",
    "Next, install the needed librairies Jupyter Lab \n",
    "\n",
    "Run the Windows Command Prompt (CMD) application as Administrator\n",
    "\n",
    "install Jupyter Lab, type \n",
    "\n",
    "    pip install jupyterlab\n",
    "    pip install plotly==4.6.0\n",
    "    pip install hs_restclient\n",
    "\n",
    "\n",
    "\n",
    "### iii. Launch Jupyter Lab Server on your local machine   \n",
    "\n",
    "Run the Windows Command Prompt (CMD) application, navigate to the directory to the Jupyter Notebook folder you downloaded earlier (Figure 3). For example, type this command:    \n",
    "\n",
    "    cd C:\\Users\\Adel\\Documents\\GitHub\\WamdamProject\\WaMDaM_JupyteNotebooks\\3_ServeToModels\n",
    "Before you move on, make sure that the base directoy has changed to the above path you entered. For example:    \n",
    "\n",
    "    C:\\Users\\Adel\\Documents\\GitHub\\WamdamProject\\WaMDaM_JupyteNotebooks\\3_ServeToModels          \n",
    "\n",
    "\n",
    "Next, type this command in the Command Prompt to launch Jupyter Lab server on your local machine   \n",
    "\n",
    "    Jupyter Notebook\n",
    "\n",
    "\n",
    "If you need to shutdown the Jupyter Notebook server, in the Anaconda Prompt, use the keyboard     \n",
    "    \n",
    "    CTRL + C\n",
    "    \n",
    "        \n",
    "To start it again anytime later, follow the steps in this section iii\n",
    "\n",
    "\n"
   ]
  },
  {
   "cell_type": "markdown",
   "metadata": {},
   "source": [
    "# Congratualtions! \n",
    "Next, install the WaMDaM Wizard"
   ]
  }
 ],
 "metadata": {
  "kernelspec": {
   "display_name": "Python 3 (ipykernel)",
   "language": "python",
   "name": "python3"
  },
  "language_info": {
   "codemirror_mode": {
    "name": "ipython",
    "version": 3
   },
   "file_extension": ".py",
   "mimetype": "text/x-python",
   "name": "python",
   "nbconvert_exporter": "python",
   "pygments_lexer": "ipython3",
   "version": "3.7.7"
  }
 },
 "nbformat": 4,
 "nbformat_minor": 4
}
