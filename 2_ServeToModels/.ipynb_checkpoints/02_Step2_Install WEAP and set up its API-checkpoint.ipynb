{
 "cells": [
  {
   "cell_type": "markdown",
   "metadata": {},
   "source": [
    "## WaMDaM Directions and Use Cases\n",
    "\n",
    "### By Adel M. Abdallah, Feb 2022"
   ]
  },
  {
   "cell_type": "markdown",
   "metadata": {},
   "source": [
    "# Step 2: Install WEAP and set up its API\n",
    "\n",
    "\n"
   ]
  },
  {
   "cell_type": "markdown",
   "metadata": {},
   "source": [
    "\n",
    "### You need to have WEAP already installed on your machine\n",
    "\n",
    "First make sure to have a copy of the Water Evaluation And Planning\" system (WEAP) installed on your local machine (Windows). If you don’t have it installed, download and install the WEAP software which allows you to run the Bear River WEAP model and its scenarios for Use Case 5. https://www.weap21.org/. You need to have a WEAP License. See here (https://www.weap21.org/index.asp?action=217). If you're interested to learning about WEAP API, check it out here: http://www.weap21.org/WebHelp/API.htm    \n",
    "\n",
    "\n",
    "## Install dependency and register WEAP\n",
    "### 2.1. Install pywin32 extensions which provide access to many of the Windows APIs from Python.\n",
    "**Choose on option**\n",
    "* a. Install using an executable basedon your python version. Use version for Python 2.7\n",
    "https://github.com/mhammond/pywin32/releases \n",
    "\n",
    "**OR**   \n",
    "\n",
    "* b. Install it using Anaconda terminal @ https://anaconda.org/anaconda/pywin32\n",
    "\n",
    "Type this command in the Anaconda terminal as Administrator  \n",
    "\n",
    "    conda install -c anaconda pywin32 \n",
    "\n",
    "\n",
    "**OR**\n",
    "\n",
    "* c. Install from source code (for advanced users) \n",
    "https://github.com/mhammond/pywin32\n",
    "\n",
    "\n",
    "### 2.2. Register WEAP with Windows \n",
    "\n",
    "\n",
    "This use case only works on a local Jupyter Notebook server installed on your machine along with WEAP. So it does not work on the online Notebooks in Step 2.1. You need to install Jupyter Server in Step 2.2 then proceed here.\n",
    "\n",
    "\n",
    "\n",
    "\n",
    "* **Register WEAP with Windows to allow the WEAP API to be accessed**    \n",
    "Use Windows \"Command Prompt\". Right click and then <font color=red>**run as Administrator**</font>, navigate to the WEAP installation directory such as and then hit enter  \n",
    "\n",
    "```\n",
    "cd C:\\Program Files (x86)\\WEAP\n",
    "```\n",
    "\n",
    "Then type the following command in the command prompt and hit enter   \n",
    "```\n",
    "WEAP /regserver\n",
    "```\n",
    "\n",
    "\n",
    "<img src=\"https://github.com/WamdamProject/WaMDaM-software-ecosystem/blob/master/mkdocs/Edit_MD_Files/QuerySelect/images/RegisterWEAP_CMD.png?raw=true\" style=\"float:center;width:700px;padding:20px\"> \n",
    "Figure 1: Register WEAP API with windows using the Command Prompt (Run as Administrator)\n"
   ]
  },
  {
   "cell_type": "markdown",
   "metadata": {},
   "source": [
    "# Get the Bear and Weber models ready\n",
    "Clone or download all this GitHub repo   \n",
    "https://github.com/WamdamProject/WaMDaM_UseCases/\n",
    "In your local repo folder, go to the folders here    \n",
    "WaMDaM_UseCases/1_Original_Datasets_preperation_files/Bear_Weber_WEAP_models\n",
    "\n",
    "Unzip or extract the WEAP and Weber folders and copy them to the **WEAP Areas** folder on your local machine. For example, it is at   \n",
    "\n",
    "    C:\\Users\\Adel\\Documents\\WEAP Areas  \n",
    "    \n",
    "    \n"
   ]
  },
  {
   "cell_type": "markdown",
   "metadata": {},
   "source": [
    "## Now your WEAP software will be able to read and run both models. Next, we will use the WaMDaM Wizard to extract the network and data of both models"
   ]
  },
  {
   "cell_type": "markdown",
   "metadata": {},
   "source": [
    "# Congratualtions! \n"
   ]
  }
 ],
 "metadata": {
  "kernelspec": {
   "display_name": "Python 3 (ipykernel)",
   "language": "python",
   "name": "python3"
  },
  "language_info": {
   "codemirror_mode": {
    "name": "ipython",
    "version": 3
   },
   "file_extension": ".py",
   "mimetype": "text/x-python",
   "name": "python",
   "nbconvert_exporter": "python",
   "pygments_lexer": "ipython3",
   "version": "3.7.7"
  }
 },
 "nbformat": 4,
 "nbformat_minor": 4
}
