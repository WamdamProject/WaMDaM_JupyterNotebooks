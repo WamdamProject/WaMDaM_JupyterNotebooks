{
 "cells": [
  {
   "cell_type": "markdown",
   "metadata": {
    "collapsed": true
   },
   "source": [
    "# 05_Step5_Summary and comparisons of Bear and Weber WEAP Models\n",
    "\n",
    "#### By Adel M. Abdallah, Feb 2022\n",
    "\n",
    "Execute the following cells by pressing `Shift-Enter`, or by pressing the play button <img style='display:inline;padding-bottom:15px' src='play-button.png'> on the toolbar above.\n",
    "\n"
   ]
  },
  {
   "cell_type": "markdown",
   "metadata": {
    "collapsed": true
   },
   "source": [
    "<a name=\"Import\"></a>\n",
    "# 1. Import python libraries "
   ]
  },
  {
   "cell_type": "code",
   "execution_count": 1,
   "metadata": {},
   "outputs": [
    {
     "data": {
      "text/html": [
       "        <script type=\"text/javascript\">\n",
       "        window.PlotlyConfig = {MathJaxConfig: 'local'};\n",
       "        if (window.MathJax) {MathJax.Hub.Config({SVG: {font: \"STIX-Web\"}});}\n",
       "        if (typeof require !== 'undefined') {\n",
       "        require.undef(\"plotly\");\n",
       "        requirejs.config({\n",
       "            paths: {\n",
       "                'plotly': ['https://cdn.plot.ly/plotly-latest.min']\n",
       "            }\n",
       "        });\n",
       "        require(['plotly'], function(Plotly) {\n",
       "            window._Plotly = Plotly;\n",
       "        });\n",
       "        }\n",
       "        </script>\n",
       "        "
      ]
     },
     "metadata": {},
     "output_type": "display_data"
    },
    {
     "data": {
      "text/html": [
       "        <script type=\"text/javascript\">\n",
       "        window.PlotlyConfig = {MathJaxConfig: 'local'};\n",
       "        if (window.MathJax) {MathJax.Hub.Config({SVG: {font: \"STIX-Web\"}});}\n",
       "        if (typeof require !== 'undefined') {\n",
       "        require.undef(\"plotly\");\n",
       "        requirejs.config({\n",
       "            paths: {\n",
       "                'plotly': ['https://cdn.plot.ly/plotly-latest.min']\n",
       "            }\n",
       "        });\n",
       "        require(['plotly'], function(Plotly) {\n",
       "            window._Plotly = Plotly;\n",
       "        });\n",
       "        }\n",
       "        </script>\n",
       "        "
      ]
     },
     "metadata": {},
     "output_type": "display_data"
    },
    {
     "name": "stdout",
     "output_type": "stream",
     "text": [
      "The needed Python libraries have been imported\n"
     ]
    }
   ],
   "source": [
    "# 1. Import python libraries \n",
    "### set the notebook mode to embed the figures within the cell\n",
    "import numpy\n",
    "import sqlite3\n",
    "import numpy as np\n",
    "import pandas as pd\n",
    "import getpass\n",
    "from hs_restclient import HydroShare, HydroShareAuthBasic\n",
    "import os\n",
    "\n",
    "import plotly\n",
    "plotly.__version__\n",
    "import plotly.offline as offline\n",
    "import plotly.graph_objs as go\n",
    "from plotly.offline import download_plotlyjs, init_notebook_mode, plot, iplot\n",
    "offline.init_notebook_mode(connected=True)\n",
    "from plotly.offline import init_notebook_mode, iplot\n",
    "from plotly.graph_objs import *\n",
    "\n",
    "init_notebook_mode(connected=True)         # initiate notebook for offline plot\n",
    "\n",
    "import os\n",
    "import csv\n",
    "from collections import OrderedDict\n",
    "import sqlite3\n",
    "import pandas as pd\n",
    "import numpy as np\n",
    "from IPython.display import display, Image, SVG, Math, YouTubeVideo\n",
    "import urllib\n",
    "import calendar\n",
    "\n",
    "print 'The needed Python libraries have been imported'"
   ]
  },
  {
   "cell_type": "markdown",
   "metadata": {},
   "source": [
    "\n",
    "# 2. Connect to the WaMDaM populated SQLite file"
   ]
  },
  {
   "cell_type": "code",
   "execution_count": 2,
   "metadata": {},
   "outputs": [
    {
     "name": "stdout",
     "output_type": "stream",
     "text": [
      "Connected to the WaMDaM SQLite file called: Bear_Weber.sqlite\n"
     ]
    }
   ],
   "source": [
    "\n",
    "# 2. Connect to the WaMDaM populated SQLite file \n",
    "\n",
    "\n",
    "# Then we can run queries against it within this notebook :)  \n",
    "\n",
    "# the SQLite file is published here \n",
    "#https://github.com/WamdamProject/WaMDaM_UseCases/blob/master/UseCases_files/3SQLite_database/BearRiverDatasets_June_2018.sqlite\n",
    "WaMDaM_SQLite_Name='Bear_Weber.sqlite'\n",
    "\n",
    "# WaMDaM_SQLite_Name='replicateWaMDaM.sqlite'\n",
    "\n",
    "\n",
    "conn = sqlite3.connect(WaMDaM_SQLite_Name)\n",
    "\n",
    "print 'Connected to the WaMDaM SQLite file called'+': '+ WaMDaM_SQLite_Name"
   ]
  },
  {
   "cell_type": "markdown",
   "metadata": {},
   "source": [
    "# Summary and comparisons of Bear and Weber WEAP Models "
   ]
  },
  {
   "cell_type": "code",
   "execution_count": 3,
   "metadata": {},
   "outputs": [
    {
     "data": {
      "text/html": [
       "<div>\n",
       "<style scoped>\n",
       "    .dataframe tbody tr th:only-of-type {\n",
       "        vertical-align: middle;\n",
       "    }\n",
       "\n",
       "    .dataframe tbody tr th {\n",
       "        vertical-align: top;\n",
       "    }\n",
       "\n",
       "    .dataframe thead th {\n",
       "        text-align: right;\n",
       "    }\n",
       "</style>\n",
       "<table border=\"1\" class=\"dataframe\">\n",
       "  <thead>\n",
       "    <tr style=\"text-align: right;\">\n",
       "      <th></th>\n",
       "      <th>MasterNetworkName</th>\n",
       "      <th>ScenarioName</th>\n",
       "      <th>AttributeDataTypeCV</th>\n",
       "      <th>CountOfAttributes</th>\n",
       "      <th>CountOfInstances</th>\n",
       "    </tr>\n",
       "  </thead>\n",
       "  <tbody>\n",
       "    <tr>\n",
       "      <th>0</th>\n",
       "      <td>Bear River Network</td>\n",
       "      <td>Bear River WEAP Model 2017</td>\n",
       "      <td>FreeText</td>\n",
       "      <td>89</td>\n",
       "      <td>61</td>\n",
       "    </tr>\n",
       "    <tr>\n",
       "      <th>1</th>\n",
       "      <td>Bear River Network</td>\n",
       "      <td>Bear River WEAP Model 2017</td>\n",
       "      <td>MultiAttributeSeries</td>\n",
       "      <td>11</td>\n",
       "      <td>11</td>\n",
       "    </tr>\n",
       "    <tr>\n",
       "      <th>2</th>\n",
       "      <td>Bear River Network</td>\n",
       "      <td>Bear River WEAP Model 2017</td>\n",
       "      <td>NumericValues</td>\n",
       "      <td>281</td>\n",
       "      <td>197</td>\n",
       "    </tr>\n",
       "    <tr>\n",
       "      <th>3</th>\n",
       "      <td>Bear River Network</td>\n",
       "      <td>Bear River WEAP Model 2017</td>\n",
       "      <td>SeasonalNumericValues</td>\n",
       "      <td>36</td>\n",
       "      <td>33</td>\n",
       "    </tr>\n",
       "    <tr>\n",
       "      <th>4</th>\n",
       "      <td>Bear River Network</td>\n",
       "      <td>Bear River WEAP Model 2017</td>\n",
       "      <td>TimeSeries</td>\n",
       "      <td>37</td>\n",
       "      <td>36</td>\n",
       "    </tr>\n",
       "    <tr>\n",
       "      <th>5</th>\n",
       "      <td>Weber</td>\n",
       "      <td>Base</td>\n",
       "      <td>FreeText</td>\n",
       "      <td>32</td>\n",
       "      <td>30</td>\n",
       "    </tr>\n",
       "    <tr>\n",
       "      <th>6</th>\n",
       "      <td>Weber</td>\n",
       "      <td>Base</td>\n",
       "      <td>MultiAttributeSeries</td>\n",
       "      <td>8</td>\n",
       "      <td>8</td>\n",
       "    </tr>\n",
       "    <tr>\n",
       "      <th>7</th>\n",
       "      <td>Weber</td>\n",
       "      <td>Base</td>\n",
       "      <td>NumericValues</td>\n",
       "      <td>464</td>\n",
       "      <td>152</td>\n",
       "    </tr>\n",
       "    <tr>\n",
       "      <th>8</th>\n",
       "      <td>Weber</td>\n",
       "      <td>Base</td>\n",
       "      <td>SeasonalNumericValues</td>\n",
       "      <td>15</td>\n",
       "      <td>15</td>\n",
       "    </tr>\n",
       "    <tr>\n",
       "      <th>9</th>\n",
       "      <td>Weber</td>\n",
       "      <td>Base</td>\n",
       "      <td>TimeSeries</td>\n",
       "      <td>44</td>\n",
       "      <td>44</td>\n",
       "    </tr>\n",
       "  </tbody>\n",
       "</table>\n",
       "</div>"
      ],
      "text/plain": [
       "    MasterNetworkName                ScenarioName    AttributeDataTypeCV  \\\n",
       "0  Bear River Network  Bear River WEAP Model 2017               FreeText   \n",
       "1  Bear River Network  Bear River WEAP Model 2017   MultiAttributeSeries   \n",
       "2  Bear River Network  Bear River WEAP Model 2017          NumericValues   \n",
       "3  Bear River Network  Bear River WEAP Model 2017  SeasonalNumericValues   \n",
       "4  Bear River Network  Bear River WEAP Model 2017             TimeSeries   \n",
       "5               Weber                        Base               FreeText   \n",
       "6               Weber                        Base   MultiAttributeSeries   \n",
       "7               Weber                        Base          NumericValues   \n",
       "8               Weber                        Base  SeasonalNumericValues   \n",
       "9               Weber                        Base             TimeSeries   \n",
       "\n",
       "   CountOfAttributes  CountOfInstances  \n",
       "0                 89                61  \n",
       "1                 11                11  \n",
       "2                281               197  \n",
       "3                 36                33  \n",
       "4                 37                36  \n",
       "5                 32                30  \n",
       "6                  8                 8  \n",
       "7                464               152  \n",
       "8                 15                15  \n",
       "9                 44                44  "
      ]
     },
     "metadata": {},
     "output_type": "display_data"
    },
    {
     "name": "stdout",
     "output_type": "stream",
     "text": [
      "Queries are done\n"
     ]
    }
   ],
   "source": [
    "# Use Case 3.1Identify_aggregate_TimeSeriesValues.csv\n",
    "# plot aggregated to monthly and converted to acre-feet time series data of multiple sources\n",
    "\n",
    "\n",
    "\n",
    "# 2.2Identify_aggregate_TimeSeriesValues.csv\n",
    "Query_UseCase3_1_URL=\"\"\"\n",
    "https://raw.githubusercontent.com/WamdamProject/WaMDaM_JupyterNotebooks/master/2_ServeToModels/SQL/GetModelSummary.sql\n",
    "\"\"\"\n",
    "\n",
    "# Read the query text inside the URL\n",
    "Query_UseCase3_1_text = urllib.urlopen(Query_UseCase3_1_URL).read()\n",
    "\n",
    "\n",
    "# return query result in a pandas data frame\n",
    "result_df_UseCase3_1= pd.read_sql_query(Query_UseCase3_1_text, conn)\n",
    "\n",
    "# uncomment the below line to see the list of attributes\n",
    "display (result_df_UseCase3_1)\n",
    "\n",
    "\n",
    "print \"Queries are done\""
   ]
  },
  {
   "cell_type": "markdown",
   "metadata": {},
   "source": [
    "# Total demand"
   ]
  },
  {
   "cell_type": "code",
   "execution_count": 4,
   "metadata": {},
   "outputs": [
    {
     "data": {
      "text/html": [
       "<div>\n",
       "<style scoped>\n",
       "    .dataframe tbody tr th:only-of-type {\n",
       "        vertical-align: middle;\n",
       "    }\n",
       "\n",
       "    .dataframe tbody tr th {\n",
       "        vertical-align: top;\n",
       "    }\n",
       "\n",
       "    .dataframe thead th {\n",
       "        text-align: right;\n",
       "    }\n",
       "</style>\n",
       "<table border=\"1\" class=\"dataframe\">\n",
       "  <thead>\n",
       "    <tr style=\"text-align: right;\">\n",
       "      <th></th>\n",
       "      <th>ScenarioName</th>\n",
       "      <th>AttributeDataTypeCV</th>\n",
       "      <th>NoumInstances</th>\n",
       "      <th>AverageAnnualDemand</th>\n",
       "    </tr>\n",
       "  </thead>\n",
       "  <tbody>\n",
       "    <tr>\n",
       "      <th>0</th>\n",
       "      <td>Base</td>\n",
       "      <td>TimeSeries</td>\n",
       "      <td>19</td>\n",
       "      <td>473385.212121</td>\n",
       "    </tr>\n",
       "    <tr>\n",
       "      <th>1</th>\n",
       "      <td>Bear River WEAP Model 2017</td>\n",
       "      <td>NumericValues</td>\n",
       "      <td>3</td>\n",
       "      <td>77799.090000</td>\n",
       "    </tr>\n",
       "    <tr>\n",
       "      <th>2</th>\n",
       "      <td>Bear River WEAP Model 2017</td>\n",
       "      <td>SeasonalNumericValues</td>\n",
       "      <td>21</td>\n",
       "      <td>990552.939225</td>\n",
       "    </tr>\n",
       "  </tbody>\n",
       "</table>\n",
       "</div>"
      ],
      "text/plain": [
       "                 ScenarioName    AttributeDataTypeCV  NoumInstances  \\\n",
       "0                        Base             TimeSeries             19   \n",
       "1  Bear River WEAP Model 2017          NumericValues              3   \n",
       "2  Bear River WEAP Model 2017  SeasonalNumericValues             21   \n",
       "\n",
       "   AverageAnnualDemand  \n",
       "0        473385.212121  \n",
       "1         77799.090000  \n",
       "2        990552.939225  "
      ]
     },
     "metadata": {},
     "output_type": "display_data"
    },
    {
     "name": "stdout",
     "output_type": "stream",
     "text": [
      "Queries are done\n"
     ]
    }
   ],
   "source": [
    "# Use Case 3.1Identify_aggregate_TimeSeriesValues.csv\n",
    "# plot aggregated to monthly and converted to acre-feet time series data of multiple sources\n",
    "\n",
    "\n",
    "\n",
    "# 2.2Identify_aggregate_TimeSeriesValues.csv\n",
    "Query_UseCase3_1_URL=\"\"\"\n",
    "https://raw.githubusercontent.com/WamdamProject/WaMDaM_JupyterNotebooks/master/2_ServeToModels/SQL/GetAverageAnnualDemand.sql\"\"\"\n",
    "\n",
    "# Read the query text inside the URL\n",
    "Query_UseCase3_1_text = urllib.urlopen(Query_UseCase3_1_URL).read()\n",
    "\n",
    "\n",
    "# return query result in a pandas data frame\n",
    "result_df_UseCase3_1= pd.read_sql_query(Query_UseCase3_1_text, conn)\n",
    "\n",
    "# uncomment the below line to see the list of attributes\n",
    "display (result_df_UseCase3_1)\n",
    "\n",
    "\n",
    "\n",
    "print \"Queries are done\""
   ]
  },
  {
   "cell_type": "markdown",
   "metadata": {},
   "source": [
    "# Total Discharge"
   ]
  },
  {
   "cell_type": "code",
   "execution_count": 5,
   "metadata": {},
   "outputs": [
    {
     "data": {
      "text/html": [
       "<div>\n",
       "<style scoped>\n",
       "    .dataframe tbody tr th:only-of-type {\n",
       "        vertical-align: middle;\n",
       "    }\n",
       "\n",
       "    .dataframe tbody tr th {\n",
       "        vertical-align: top;\n",
       "    }\n",
       "\n",
       "    .dataframe thead th {\n",
       "        text-align: right;\n",
       "    }\n",
       "</style>\n",
       "<table border=\"1\" class=\"dataframe\">\n",
       "  <thead>\n",
       "    <tr style=\"text-align: right;\">\n",
       "      <th></th>\n",
       "      <th>ResourceTypeAcronym</th>\n",
       "      <th>ScenarioName</th>\n",
       "      <th>#Instance</th>\n",
       "      <th>AttributeDataTypeCV</th>\n",
       "      <th>AttributeName_Abstract</th>\n",
       "      <th>AnnualDischarge</th>\n",
       "    </tr>\n",
       "  </thead>\n",
       "  <tbody>\n",
       "    <tr>\n",
       "      <th>0</th>\n",
       "      <td>WEAP_Bear</td>\n",
       "      <td>Bear River WEAP Model 2017</td>\n",
       "      <td>11</td>\n",
       "      <td>TimeSeries</td>\n",
       "      <td>Surface Water Inflow</td>\n",
       "      <td>1.265191e+06</td>\n",
       "    </tr>\n",
       "    <tr>\n",
       "      <th>1</th>\n",
       "      <td>WEAP_Bear</td>\n",
       "      <td>Bear River WEAP Model 2017</td>\n",
       "      <td>12</td>\n",
       "      <td>TimeSeries</td>\n",
       "      <td>Headflow</td>\n",
       "      <td>1.026013e+06</td>\n",
       "    </tr>\n",
       "    <tr>\n",
       "      <th>2</th>\n",
       "      <td>WEAP_Bear</td>\n",
       "      <td>Bear River WEAP Model 2017</td>\n",
       "      <td>Dewitt Spring Headflow</td>\n",
       "      <td>SeasonalNumericValues</td>\n",
       "      <td>Headflow</td>\n",
       "      <td>1.059976e+04</td>\n",
       "    </tr>\n",
       "    <tr>\n",
       "      <th>3</th>\n",
       "      <td>WEAP_Weber</td>\n",
       "      <td>Base</td>\n",
       "      <td>17</td>\n",
       "      <td>TimeSeries</td>\n",
       "      <td>Headflow</td>\n",
       "      <td>9.423588e+05</td>\n",
       "    </tr>\n",
       "    <tr>\n",
       "      <th>4</th>\n",
       "      <td>WEAP_Weber</td>\n",
       "      <td>Base</td>\n",
       "      <td>Q68 Sewage Outfall Headflow</td>\n",
       "      <td>SeasonalNumericValues</td>\n",
       "      <td>Headflow</td>\n",
       "      <td>3.314313e+04</td>\n",
       "    </tr>\n",
       "  </tbody>\n",
       "</table>\n",
       "</div>"
      ],
      "text/plain": [
       "  ResourceTypeAcronym                ScenarioName  \\\n",
       "0           WEAP_Bear  Bear River WEAP Model 2017   \n",
       "1           WEAP_Bear  Bear River WEAP Model 2017   \n",
       "2           WEAP_Bear  Bear River WEAP Model 2017   \n",
       "3          WEAP_Weber                        Base   \n",
       "4          WEAP_Weber                        Base   \n",
       "\n",
       "                     #Instance    AttributeDataTypeCV AttributeName_Abstract  \\\n",
       "0                           11             TimeSeries   Surface Water Inflow   \n",
       "1                           12             TimeSeries               Headflow   \n",
       "2       Dewitt Spring Headflow  SeasonalNumericValues               Headflow   \n",
       "3                           17             TimeSeries               Headflow   \n",
       "4  Q68 Sewage Outfall Headflow  SeasonalNumericValues               Headflow   \n",
       "\n",
       "   AnnualDischarge  \n",
       "0     1.265191e+06  \n",
       "1     1.026013e+06  \n",
       "2     1.059976e+04  \n",
       "3     9.423588e+05  \n",
       "4     3.314313e+04  "
      ]
     },
     "metadata": {},
     "output_type": "display_data"
    },
    {
     "name": "stdout",
     "output_type": "stream",
     "text": [
      "Queries are done\n"
     ]
    }
   ],
   "source": [
    "# Use Case 3.1Identify_aggregate_TimeSeriesValues.csv\n",
    "# plot aggregated to monthly and converted to acre-feet time series data of multiple sources\n",
    "\n",
    "\n",
    "# 2.2Identify_aggregate_TimeSeriesValues.csv\n",
    "Query_UseCase3_1_URL=\"\"\"\n",
    "https://raw.githubusercontent.com/WamdamProject/WaMDaM_JupyterNotebooks/master/2_ServeToModels/SQL/GetTotalHeadFlows.sql\n",
    "\"\"\"\n",
    "\n",
    "# Read the query text inside the URL\n",
    "Query_UseCase3_1_text = urllib.urlopen(Query_UseCase3_1_URL).read()\n",
    "\n",
    "# return query result in a pandas data frame\n",
    "result_df_UseCase3_1= pd.read_sql_query(Query_UseCase3_1_text, conn)\n",
    "\n",
    "# uncomment the below line to see the list of attributes\n",
    "display (result_df_UseCase3_1)\n",
    "\n",
    "\n",
    "print \"Queries are done\""
   ]
  },
  {
   "cell_type": "markdown",
   "metadata": {},
   "source": [
    "\n",
    "\n",
    "\n",
    "1 Cubic Feet Per Second to Acre-feet Per Month = 60.3707\t\n",
    "\n",
    "\n"
   ]
  },
  {
   "cell_type": "markdown",
   "metadata": {},
   "source": [
    "# Total Capacity"
   ]
  },
  {
   "cell_type": "code",
   "execution_count": 6,
   "metadata": {},
   "outputs": [
    {
     "data": {
      "text/html": [
       "<div>\n",
       "<style scoped>\n",
       "    .dataframe tbody tr th:only-of-type {\n",
       "        vertical-align: middle;\n",
       "    }\n",
       "\n",
       "    .dataframe tbody tr th {\n",
       "        vertical-align: top;\n",
       "    }\n",
       "\n",
       "    .dataframe thead th {\n",
       "        text-align: right;\n",
       "    }\n",
       "</style>\n",
       "<table border=\"1\" class=\"dataframe\">\n",
       "  <thead>\n",
       "    <tr style=\"text-align: right;\">\n",
       "      <th></th>\n",
       "      <th>ScenarioName</th>\n",
       "      <th>#Reservoirs</th>\n",
       "      <th>TotalCapacity</th>\n",
       "    </tr>\n",
       "  </thead>\n",
       "  <tbody>\n",
       "    <tr>\n",
       "      <th>0</th>\n",
       "      <td>Base</td>\n",
       "      <td>8</td>\n",
       "      <td>551240.000</td>\n",
       "    </tr>\n",
       "    <tr>\n",
       "      <th>1</th>\n",
       "      <td>Bear River WEAP Model 2017</td>\n",
       "      <td>10</td>\n",
       "      <td>140411.002</td>\n",
       "    </tr>\n",
       "    <tr>\n",
       "      <th>2</th>\n",
       "      <td>Bear River WEAP Model 2017</td>\n",
       "      <td>Bear Lake</td>\n",
       "      <td>1516633.000</td>\n",
       "    </tr>\n",
       "  </tbody>\n",
       "</table>\n",
       "</div>"
      ],
      "text/plain": [
       "                 ScenarioName #Reservoirs  TotalCapacity\n",
       "0                        Base           8     551240.000\n",
       "1  Bear River WEAP Model 2017          10     140411.002\n",
       "2  Bear River WEAP Model 2017   Bear Lake    1516633.000"
      ]
     },
     "metadata": {},
     "output_type": "display_data"
    },
    {
     "name": "stdout",
     "output_type": "stream",
     "text": [
      "Queries are done\n"
     ]
    }
   ],
   "source": [
    "# Use Case 3.1Identify_aggregate_TimeSeriesValues.csv\n",
    "# plot aggregated to monthly and converted to acre-feet time series data of multiple sources\n",
    "\n",
    "# 2.2Identify_aggregate_TimeSeriesValues.csv\n",
    "Query_UseCase3_1_URL=\"\"\"\n",
    "https://raw.githubusercontent.com/WamdamProject/WaMDaM_JupyterNotebooks/master/2_ServeToModels/SQL/GetTotalReservoirCapacity.sql\n",
    "\"\"\"\n",
    "\n",
    "# Read the query text inside the URL\n",
    "Query_UseCase3_1_text = urllib.urlopen(Query_UseCase3_1_URL).read()\n",
    "\n",
    "\n",
    "# return query result in a pandas data frame\n",
    "result_df_UseCase3_1= pd.read_sql_query(Query_UseCase3_1_text, conn)\n",
    "\n",
    "# uncomment the below line to see the list of attributes\n",
    "display (result_df_UseCase3_1)\n",
    "\n",
    "\n",
    "print \"Queries are done\""
   ]
  },
  {
   "cell_type": "code",
   "execution_count": null,
   "metadata": {
    "collapsed": true
   },
   "outputs": [],
   "source": []
  }
 ],
 "metadata": {
  "kernelspec": {
   "display_name": "Python 3 (ipykernel)",
   "language": "python",
   "name": "python3"
  },
  "language_info": {
   "codemirror_mode": {
    "name": "ipython",
    "version": 3
   },
   "file_extension": ".py",
   "mimetype": "text/x-python",
   "name": "python",
   "nbconvert_exporter": "python",
   "pygments_lexer": "ipython3",
   "version": "3.7.7"
  }
 },
 "nbformat": 4,
 "nbformat_minor": 2
}
