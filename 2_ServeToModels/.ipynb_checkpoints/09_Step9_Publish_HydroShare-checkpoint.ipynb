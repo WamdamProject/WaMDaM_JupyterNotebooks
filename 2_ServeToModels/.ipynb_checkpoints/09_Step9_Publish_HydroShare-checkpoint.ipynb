{
 "cells": [
  {
   "cell_type": "markdown",
   "metadata": {},
   "source": [
    "## Step 9: Publish WaMDaM Sqlite files into HydroShare\n",
    "\n",
    "### By Adel M. Abdallah, Feb 2022"
   ]
  },
  {
   "cell_type": "markdown",
   "metadata": {},
   "source": [
    "## Prerequists\n",
    "* You should have an account with HydroShare\n",
    "* You should still be connected to the provided SQLite database you worked with above"
   ]
  },
  {
   "cell_type": "markdown",
   "metadata": {},
   "source": [
    "* First connect to the SQLite files here \n",
    "https://github.com/WamdamProject/WaMDaM_JupyterNotebooks/tree/master/2_ServeToModels/Files\n",
    "\n",
    "* Connect to the Bear_River_WEAP_WASH.sqlite and follow the instructions below. Then disconnect it or close the Wizard. \n",
    "\n",
    "* Connect to the Bear_Weber.sqlite.sqlite and follow the insructions below\n",
    "\n",
    "* In the WaMDaM Wizard main window, click at **Visualize and Publish** tab, then click at the Hydrohare button. \n",
    "* provide your user name and password to HydroShare then click login. \n",
    "* Provide a tite, abstract, and your name as an author to a resource you will create in HydroShare for the WEAP and WASH model SQLite file. For the sake of demonestration, adding a few words should work. Being descritive is always a good practice.  \n",
    "* Click publish. \n",
    "* Go to your borwser and hard refresh HydroShare page. Go to **My Resources** tab in HydroShare. You will see the newly uploaded resource. \n",
    "* Click at the newly added resouce and make it public. Feel free to make edits you see fit\n",
    "\n",
    "<img src=\"https://github.com/WamdamProject/WaMDaM-software-ecosystem/blob/master/mkdocs/Edit_MD_Files/images/HydroShare.PNG?raw=true\" style=\"float:center;width:600px;padding:20px\">\n",
    "  <h3><center>**Figure 1:** WaMDaM Wizard Window to Uplaod to HydroShare</center></h3>\n",
    "  \n",
    "\n",
    "<img src=\"https://github.com/WamdamProject/WaMDaM-software-ecosystem/blob/master/mkdocs/Edit_MD_Files/images/HydroShare_upload.PNG?raw=true\" style=\"float:center;width:600px;padding:20px\">\n",
    "  <h3><center>**Figure 2:** HydroShare \"My Resources\" page</center></h3>\n",
    "  \n",
    "  \n",
    "<img src=\"https://github.com/WamdamProject/WaMDaM-software-ecosystem/blob/master/mkdocs/Edit_MD_Files/images/HydroShareResources.PNG?raw=true\" style=\"float:center;width:600px;padding:20px\">\n",
    "  <h3><center>**Figure 3:** HydroShare metadata </center></h3>\n",
    "  \n",
    "  \n",
    "<img src=\"https://github.com/WamdamProject/WaMDaM-software-ecosystem/blob/master/mkdocs/Edit_MD_Files/images/HydroShare_metadata.PNG?raw=true\" style=\"float:center;width:600px;padding:20px\">\n",
    "<h3><center>**Figure 4:** HydroShare metadata 2</center></h3>\n",
    "  "
   ]
  },
  {
   "cell_type": "markdown",
   "metadata": {
    "collapsed": true
   },
   "source": [
    "# Congratualtions! "
   ]
  }
 ],
 "metadata": {
  "kernelspec": {
   "display_name": "Python 3 (ipykernel)",
   "language": "python",
   "name": "python3"
  },
  "language_info": {
   "codemirror_mode": {
    "name": "ipython",
    "version": 3
   },
   "file_extension": ".py",
   "mimetype": "text/x-python",
   "name": "python",
   "nbconvert_exporter": "python",
   "pygments_lexer": "ipython3",
   "version": "3.7.7"
  }
 },
 "nbformat": 4,
 "nbformat_minor": 2
}
