{
 "cells": [
  {
   "cell_type": "markdown",
   "metadata": {},
   "source": [
    "## Instructions to reproduce the WaMDaM / WEAP paper use case results\n",
    "\n",
    "\n",
    "### Open Source Python Software To Manage, Populate, Compare, And Analyze Weap Models And Scenarios  \n",
    "\n",
    "\n",
    "#### By Adel M. Abdallah, Feb 2022\n",
    "\n",
    "### Abstract\n",
    "The Water Evaluation and Planning system (WEAP) is a proprietary systems simulation software that is used globally for water management modeling studies. WEAP has a simple and powerful Application Programming Interface (API), however most WEAP modelers manually populate data into their WEAP area (model), which is error-prone and time-consuming. Remaining modelers use the WEAP API and data and scenarios. \n",
    "\n",
    "We contribute open-source Python software that automates and generalizes the processes for WEAP modelers to prepare and load data and run sensitivity analysis for multiple WEAP areas and their scenarios without writing code. The software also allows others to export and store model data and run independent analyses. We demonstrate the software with existing WEAP areas for the 1) Bear River Basin in Idaho and Utah and 2) Weber River Basin in Utah. Results for changes in reservoir capacity, demand, evaporation, and river headflows show estimated demand reliability across all simulation years and scenarios. Demand sites reliability in both the Bear and Weber Rivers models varied from 50% to 100%.\n",
    "\n",
    "WaMDaM software developments continues at the WaMDaM project on GitHub at https://github.com/WamdamProject"
   ]
  },
  {
   "cell_type": "markdown",
   "metadata": {},
   "source": [
    "### The instructions here will help you to reproduce: \n",
    "\n",
    "* Use Case 1: Estimate and compare how regulated two river basins are based on two existing WEAP models \n",
    "     \n",
    "\n",
    "* Use case 2: estimate sensitivity of different water systems’ reliability to meet demand \n",
    "\n",
    "\n",
    "### Required Software \n",
    "* Windows 7 or 10 64-bit operating systems, both up to date.  \n",
    "* Internet connection and Google Chrome v. 69 or FireFox Quantum v. 62.0 browsers     \n",
    "* Microsoft Excel (versions after 2007)  \n",
    "* Python 3.7. \n",
    "\n",
    "* Water Evaluation and Planning System (WEAP) (WEAP requires a license to run the model: Version 2019.2 or newer   If you don’t have access to a WEAP license, you will still be able to replicate all the results of the first use. \n",
    "\n",
    "### Required online accounts (if you don't have them)\n",
    "* Free: create a user account at https://openagua.org. After you create the account, email Adel Abdalla @ amabdallah@aggiemail.usu.edu to let him know your username (email) to share a project with you as part of replicating the use case. \n",
    "* Free: create a user account at https://www.hydroshare.org/\n",
    "\n",
    "\n",
    "### Difficulty level\n",
    "Very little coding or database experience are needed to reproduce the work but some knowledge of coding like in Python and awareness of Structure Query Language (SQL) are a plus. \n",
    "\n",
    "**Options and required time**   \n",
    "Please expect to spend a couple of of hours to complete these directions. This work is 6 years in the making so spending a a couple of hours to learn and reproduce the results is quite amazing! \n",
    "\n",
    "\n",
    "### How to use the Notebook   \n",
    "\n",
    "Execute the Notebook cells that contain Python code by pressing `Shift-Enter`, or by pressing the play button <img style='display:inline;padding-bottom:15px' src='play-button.png'> on the toolbar above.   \n",
    "\n",
    "**Note:** Any changes you make to the live Notebooks are temporary and will be lost once you close it. You always can start a new live Notebook that has the original content.    \n",
    "\n",
    "\n"
   ]
  },
  {
   "cell_type": "markdown",
   "metadata": {},
   "source": [
    "# Preperations (step 1-2)\n",
    "-----------------------------------------------------------\n",
    "\n",
    "### Step 1: Setup_local_Jupyter\n",
    "\n",
    "[01_Step 1_Setup_local_Jupyter](01_Step1_Setup_local_Jupyter.ipynb)   \n",
    "<br>\n",
    "\n",
    "### Step 2: Install_WaMDaM_Wizard_Connect to SQLite\n",
    "\n",
    " \n",
    "[02_Step 2_Step2_Install_WaMDaM_Wizard_Connect](02_Step2_Install_WaMDaM_Wizard_Connect.ipynb)   \n",
    "<br>\n"
   ]
  },
  {
   "cell_type": "markdown",
   "metadata": {},
   "source": [
    "\n",
    "# Use Case 1: Estimate and compare how regulated two river basins are based on two existing WEAP models\n",
    "-----------------------------------------------------------\n",
    "\n",
    "### Step 3: Use WaMDaM Wizard to Extract WEAP models into WaMDaM\n",
    " \n",
    "[03_Step 3_Step3_Visualize_OpenAgua](03_Step3_Visualize_OpenAgua.ipynb)   \n",
    "<br>"
   ]
  },
  {
   "cell_type": "markdown",
   "metadata": {},
   "source": [
    "# Use Case 2\n",
    "--------------------------------------------------------------\n",
    "### Step 4: Create_New_Scenarios_Edit_OpenAgua\n",
    " \n",
    "[Step4_Create_New_Scenarios_Edit_OpenAgua](https://github.com/WamdamProject/WaMDaM_JupyterNotebooks/blob/master/2_VisualizePublish/04_Step4_Create_New_Scenarios_Edit_OpenAgua.ipynb)   \n",
    "<br>\n",
    "\n",
    "\n",
    "### Step 5: Download_to_WaMDaM\n",
    " \n",
    "[Step5_EditOpenAgua_download_to_WaMDaM](https://github.com/WamdamProject/WaMDaM_JupyterNotebooks/blob/master/2_VisualizePublish/05_Step5_download_to_WaMDaM.ipynb)   \n",
    "<br>\n",
    "\n",
    "\n",
    "\n",
    "### Step 6: Serve_NewScenarios_WASH\n",
    " \n",
    "[Step6_Serve_NewScenarios_WASH](https://github.com/WamdamProject/WaMDaM_JupyterNotebooks/blob/master/2_VisualizePublish/06_Step6_Serve_NewScenarios_WASH.ipynb)   \n",
    "<br>\n",
    "\n",
    "\n",
    "\n",
    "### Step 7: Serve_NewScenarios_WEAP\n",
    " \n",
    "[Step7_Serve_NewScenarios_WEAP](https://github.com/WamdamProject/WaMDaM_JupyterNotebooks/blob/master/2_VisualizePublish/07_Step7_Serve_NewScenarios_WEAP.ipynb)   \n",
    "<br>\n"
   ]
  },
  {
   "cell_type": "markdown",
   "metadata": {},
   "source": [
    "\n",
    "# Use Case 3\n",
    "\n",
    "\n",
    "### Step 8: Publish the Bear River and Monterrey models into HydroShare \n",
    "[Step8_Publish_HydroShare](https://github.com/WamdamProject/WaMDaM_JupyterNotebooks/blob/master/2_VisualizePublish/08_Step8_Publish_HydroShare.ipynb)   \n",
    "<br>\n",
    "\n",
    "### Step 9: Query_Analyze_HydroShare_Monterrey_Mexico\n",
    " \n",
    "[Step9_Query_Analyze_HydroShare_Monterrey_Mexico](https://github.com/WamdamProject/WaMDaM_JupyterNotebooks/blob/master/2_VisualizePublish/09_Step9_Query_Analyze_HydroShare_Monterrey_Mexico.ipynb)   \n",
    "<br>"
   ]
  },
  {
   "cell_type": "markdown",
   "metadata": {},
   "source": [
    "# Info\n",
    "\n",
    "### Sponsors and Credit\n",
    "This material is based upon work [supported](http://docs.wamdam.org/SponsorsCredit/) by the National Science Foundation (NSF) under Grants 1135482 (CI-Water) and 1208732 (iUtah). Any opinions, findings, and conclusions or recommendations expressed in this material are those of the author(s) and do not necessarily reflect the views of the NSF.\n",
    "\n",
    "### License\n",
    "WaMDaM and its products are disturbed under a BSD 3-Clause [license](http://docs.wamdam.org/License/)\n",
    "\n",
    "### Authors\n",
    "[Adel M. Abdallah](http://adelmabdallah.com/) has been the lead in WaMDaM development as part of his PhD dissertation at Utah State University under the advising of Dr. David Rosenberg. \n",
    "\n",
    "If you have questions, feel free to email me at: [amabdallah@aggiemail.usu.edu](mailto:amabdallah@aggiemail.usu.edu) \n",
    "\n",
    "### Citation\n",
    "Adel M. Abdallah, David Rheinheimer, David E. Rosenberg, Steve Knox, Julien J Harou, in review. A Software Ecosystem to Store, Visualize, and Publish Modelling Data for Water Resources Systems. Journal of Hydroinformatics."
   ]
  },
  {
   "cell_type": "markdown",
   "metadata": {},
   "source": [
    "# The End :) Congratulations!"
   ]
  }
 ],
 "metadata": {
  "kernelspec": {
   "display_name": "Python 3 (ipykernel)",
   "language": "python",
   "name": "python3"
  },
  "language_info": {
   "codemirror_mode": {
    "name": "ipython",
    "version": 3
   },
   "file_extension": ".py",
   "mimetype": "text/x-python",
   "name": "python",
   "nbconvert_exporter": "python",
   "pygments_lexer": "ipython3",
   "version": "3.7.7"
  }
 },
 "nbformat": 4,
 "nbformat_minor": 4
}
