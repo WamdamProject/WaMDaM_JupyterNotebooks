{
 "cells": [
  {
   "cell_type": "markdown",
   "metadata": {},
   "source": [
    "<a name=\"Import\"></a>\n",
    "\n",
    "\n",
    "#### By Adel M. Abdallah, Feb 2022\n",
    "\n",
    "\n",
    "# 07_Step7. Export Scenario Data to WEAP models\n",
    "\n",
    "\n",
    "\n",
    "\n",
    "\n"
   ]
  },
  {
   "cell_type": "markdown",
   "metadata": {},
   "source": [
    "# 1.1 Bear River - Sedimentation Scenario\n",
    "\n",
    "Choose exactly the same values as shown in the screenshot below. Then click \"Serve to WEAP\". It probably will take 30 min to finish. It will display a message at the end.\n",
    "\n",
    "\n",
    "<img src=\"https://github.com/WamdamProject/WaMDaM-software-ecosystem/blob/master/mkdocs/Edit_MD_Files/images/Export_to_WEAP/1_Bear_Sedimentation.PNG?raw=true\" style=\"float:center;width:600px;padding:20px\">"
   ]
  },
  {
   "cell_type": "markdown",
   "metadata": {},
   "source": [
    "# 1.2. Bear River - Evaporation Scenario\n",
    "\n",
    "Choose exactly the same values as shown in the screenshot below. Then click \"Serve to WEAP\". It probably will take 30 min to finish. It will display a message at the end.\n",
    "\n",
    "\n",
    "<img src=\"https://github.com/WamdamProject/WaMDaM-software-ecosystem/blob/master/mkdocs/Edit_MD_Files/images/Export_to_WEAP/2_Bear_Evaporation.PNG?raw=true\" style=\"float:center;width:600px;padding:20px\">"
   ]
  },
  {
   "cell_type": "markdown",
   "metadata": {},
   "source": [
    "# 1.3. Bear River - Headflow Scenario\n",
    "\n",
    "Choose exactly the same values as shown in the screenshot below\n",
    "\n",
    "\n",
    "<img src=\"https://github.com/WamdamProject/WaMDaM-software-ecosystem/blob/master/mkdocs/Edit_MD_Files/images/Export_to_WEAP/3_Bear_Headflow.PNG?raw=true\" style=\"float:center;width:600px;padding:20px\">"
   ]
  },
  {
   "cell_type": "markdown",
   "metadata": {},
   "source": [
    "# 1.4. Bear River - Demand Scenario\n",
    "\n",
    "Choose exactly the same values as shown in the screenshot below. Then click \"Serve to WEAP\". It probably will take 30 min to finish. It will display a message at the end.\n",
    "\n",
    "\n",
    "<img src=\"https://github.com/WamdamProject/WaMDaM-software-ecosystem/blob/master/mkdocs/Edit_MD_Files/images/Export_to_WEAP/4_Bear_Demand.PNG?raw=true\" style=\"float:center;width:600px;padding:20px\">"
   ]
  },
  {
   "cell_type": "markdown",
   "metadata": {},
   "source": [
    "# 1. Export Scenario Data to Weber models\n"
   ]
  },
  {
   "cell_type": "markdown",
   "metadata": {},
   "source": [
    "# 1.1 Weber River - Sedimentation Scenario\n",
    "\n",
    "Choose exactly the same values as shown in the screenshot below. Then click \"Serve to WEAP\". It probably will take 30 min to finish. It will display a message at the end.\n",
    "\n",
    "\n",
    "<img src=\"https://github.com/WamdamProject/WaMDaM-software-ecosystem/blob/master/mkdocs/Edit_MD_Files/images/Export_to_WEAP/1_Weber_Sedimentation.PNG?raw=true\" style=\"float:center;width:600px;padding:20px\">"
   ]
  },
  {
   "cell_type": "markdown",
   "metadata": {},
   "source": [
    "# 1.2. Weber River - Evaporation Scenario\n",
    "\n",
    "Choose exactly the same values as shown in the screenshot below. Then click \"Serve to WEAP\". It probably will take 30 min to finish. It will display a message at the end.\n",
    "\n",
    "\n",
    "<img src=\"https://github.com/WamdamProject/WaMDaM-software-ecosystem/blob/master/mkdocs/Edit_MD_Files/images/Export_to_WEAP/2_Weber_Evaporation.PNG?raw=true\" style=\"float:center;width:600px;padding:20px\">"
   ]
  },
  {
   "cell_type": "markdown",
   "metadata": {},
   "source": [
    "# 1.3. Weber River - Headflow Scenario\n",
    "\n",
    "Choose exactly the same values as shown in the screenshot below. Then click \"Serve to WEAP\". It probably will take 30 min to finish. It will display a message at the end.\n",
    "\n",
    "\n",
    "<img src=\"https://github.com/WamdamProject/WaMDaM-software-ecosystem/blob/master/mkdocs/Edit_MD_Files/images/Export_to_WEAP/3_Weber_Headflow.PNG?raw=true\" style=\"float:center;width:600px;padding:20px\">"
   ]
  },
  {
   "cell_type": "markdown",
   "metadata": {},
   "source": [
    "# 1.4. Weber River - Demand Scenario\n",
    "\n",
    "Choose exactly the same values as shown in the screenshot below. Then click \"Serve to WEAP\". It probably will take 30 min to finish. It will display a message at the end.\n",
    "\n",
    "\n",
    "<img src=\"https://github.com/WamdamProject/WaMDaM-software-ecosystem/blob/master/mkdocs/Edit_MD_Files/images/Export_to_WEAP/4_Weber_Demand.PNG?raw=true\" style=\"float:center;width:600px;padding:20px\">"
   ]
  },
  {
   "cell_type": "markdown",
   "metadata": {},
   "source": [
    "# You have served new scenarios data from WaMDaM to all WEAP scenarios in both the Bear River and Weber River Models \n",
    "\n",
    "In the next step, you'll use a Jupyter Notebook to run all the scenarios, query, and plot their results.\n",
    "\n"
   ]
  },
  {
   "cell_type": "markdown",
   "metadata": {},
   "source": [
    "# The End :) Congratulations!"
   ]
  }
 ],
 "metadata": {
  "kernelspec": {
   "display_name": "Python 3 (ipykernel)",
   "language": "python",
   "name": "python3"
  },
  "language_info": {
   "codemirror_mode": {
    "name": "ipython",
    "version": 3
   },
   "file_extension": ".py",
   "mimetype": "text/x-python",
   "name": "python",
   "nbconvert_exporter": "python",
   "pygments_lexer": "ipython3",
   "version": "3.7.7"
  }
 },
 "nbformat": 4,
 "nbformat_minor": 2
}
