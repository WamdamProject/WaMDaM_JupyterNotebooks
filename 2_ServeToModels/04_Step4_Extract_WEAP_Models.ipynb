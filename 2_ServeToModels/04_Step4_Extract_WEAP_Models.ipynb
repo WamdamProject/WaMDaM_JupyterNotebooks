{
 "cells": [
  {
   "cell_type": "markdown",
   "metadata": {},
   "source": [
    "# Step 4 - Extract Bear and Weber Rivers WEAP models into WaMDaM database"
   ]
  },
  {
   "cell_type": "markdown",
   "metadata": {},
   "source": [
    "## WaMDaM Directions and Use Cases\n",
    "\n",
    "### By Adel M. Abdallah, Feb 2022"
   ]
  },
  {
   "cell_type": "markdown",
   "metadata": {},
   "source": [
    "## 1. Extract the Bear River WEAP Model\n",
    "\n",
    "* Launch the WaMDaM Wizard. Click at the tab: \"Import Data to WaMDaM\", then click at \"WEAP Model (Area)\". You'll notice that the WaMDaM Wizard calls WEAP and launches it. \n",
    "* Select the WEAP model: Bear River WEAP 2017\n",
    "* Select Current Accounts for the WEAP Scenario\n",
    "* Leave the projection empty (this Bear River Model already uses the WSG84 global projection)\n",
    "* Select a directory/folder on your local machine to store the extracted Excel Workbook for all WEAP network and data\n",
    "* Click Extract. Please be patient. This might take 10-30 minutes to complete. You'll notice the WEAP software going through all its network nodes and links and their data one-at-a-time to extrat them.\n",
    "* One the Wizad is done, you'll see a message. Go to the location where you chose to save the Excel file and open it.\n",
    "\n"
   ]
  },
  {
   "cell_type": "markdown",
   "metadata": {},
   "source": [
    "\n",
    "<img src=\"https://github.com/WamdamProject/WaMDaM-software-ecosystem/blob/master/mkdocs/Edit_MD_Files/images/ExtractWEAP.PNG?raw=true\" style=\"float:center;width:600px;padding:20px\">\n",
    "\n",
    "**Figure 1:** WaMDaM Wizard- Extract the Bear River Model"
   ]
  },
  {
   "cell_type": "markdown",
   "metadata": {},
   "source": [
    "# 2. Extract the Weber River WEAP Model\n",
    "\n",
    "* Follow the same steps as for the Bear River model.The only change here is using the EPSG:26912 projection. The Weber model uses UTM Zone 12 N projection. WaMDaM prefers global projections\n",
    "\n",
    "* Select the WEAP model: Weber Ogden Rivers Lab -3 Original\n",
    "* Select Current Accounts for the WEAP Scenario\n",
    "* Enter EPSG:26912 for the projection\n",
    "* Select a directory/folder on your local machine to store the extracted Excel Workbook for all WEAP network and data\n",
    "* Click Extract. Please be patient. This might take 10-30 minutes to complete. You'll notice the WEAP software going through all its network nodes and links and their data one-at-a-time to extrat them.\n",
    "* One the Wizad is done, you'll see a message. Go to the location where you chose to save the Excel file and open it.\n",
    "\n",
    "\n",
    "<img src=\"https://github.com/WamdamProject/WaMDaM-software-ecosystem/blob/master/mkdocs/Edit_MD_Files/images/ExtractWEAP_Weber.PNG?raw=true\" style=\"float:center;width:600px;padding:20px\">"
   ]
  },
  {
   "cell_type": "markdown",
   "metadata": {},
   "source": [
    "## 3. Load the extracted models into WaMDaM SQLite database file \n",
    "\n",
    "**Shortcut** The extracted workbooks are mostly ready to load into WaMDaM. However, there are metadata that WaMDaM require but WEAP does not have such as sources and methods. So to make it easy for you, I'll ask you to connect to SQL file database that I already loaded from those workbooks. If you're interested in loading them yourself, you're welcome to contact me. In the meantime, I recommend you read WaMDaM paper and visit its Jupyter Notebook here https://github.com/WamdamProject/WaMDaM_JupyterNotebooks/tree/master/1_QuerySelect\n",
    "\n",
    "WaMDaM: A data model to manage data for water resources systems modeling\n",
    "https://www.sciencedirect.com/science/article/abs/pii/S1364815218306595\n",
    "\n",
    "\n",
    "Click the **Connect to SQLite** tab (Figure 1), then click the button **Connect to an Existing SQLite WaMDaM database** \n",
    "\n",
    "From the previous step, it is expected that you already have clones the GitHub repo \n",
    "https://github.com/WamdamProject/WaMDaM_JupyterNotebooks\n",
    "\n",
    "Navigate to the location on your desktop where you have the GitHub clones folder. For example:   \n",
    "\n",
    "    C:\\Users\\Adel\\Documents\\GitHub\\WamdamProject\\WaMDaM_JupyteNotebooks\\2_ServeToModels\\\n",
    "\n",
    "Connect to the SQLite file Bear_Weber.sqlite\n",
    "\n",
    "<br>  \n"
   ]
  },
  {
   "cell_type": "markdown",
   "metadata": {},
   "source": [
    "# Congratualtions! \n"
   ]
  }
 ],
 "metadata": {
  "kernelspec": {
   "display_name": "Python 3 (ipykernel)",
   "language": "python",
   "name": "python3"
  },
  "language_info": {
   "codemirror_mode": {
    "name": "ipython",
    "version": 3
   },
   "file_extension": ".py",
   "mimetype": "text/x-python",
   "name": "python",
   "nbconvert_exporter": "python",
   "pygments_lexer": "ipython3",
   "version": "3.7.7"
  }
 },
 "nbformat": 4,
 "nbformat_minor": 2
}
